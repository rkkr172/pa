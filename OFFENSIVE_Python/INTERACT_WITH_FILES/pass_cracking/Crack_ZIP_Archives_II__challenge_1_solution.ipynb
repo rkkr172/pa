{
 "cells": [
  {
   "cell_type": "markdown",
   "metadata": {},
   "source": [
    "# Challenge 2: Cracking ZIP achive II"
   ]
  },
  {
   "cell_type": "markdown",
   "metadata": {},
   "source": [
    "### Statement"
   ]
  },
  {
   "cell_type": "markdown",
   "metadata": {},
   "source": [
    "A .zip archive named **PDF.zip** is present in the current working directory. The archive is password protected. The password is take from given dictionary file named \"dictionary.txt\".\n"
   ]
  },
  {
   "cell_type": "markdown",
   "metadata": {},
   "source": [
    "### Tasks"
   ]
  },
  {
   "cell_type": "markdown",
   "metadata": {},
   "source": [
    "**Task 1.** Read the archive and print the list of files inside it."
   ]
  },
  {
   "cell_type": "code",
   "execution_count": 1,
   "metadata": {},
   "outputs": [
    {
     "name": "stdout",
     "output_type": "stream",
     "text": [
      "File Name                                             Modified             Size\n",
      "PDF/                                           2018-08-27 16:53:06            0\n",
      "PDF/1.pdf                                      2018-08-27 16:50:10      5916545\n",
      "PDF/10.pdf                                     2018-08-27 16:52:40       852386\n",
      "PDF/2.pdf                                      2018-08-27 16:50:46     13696007\n",
      "PDF/3.pdf                                      2018-08-27 16:50:02      3119168\n",
      "PDF/4.pdf                                      2018-08-27 16:51:14      1475959\n",
      "PDF/5.pdf                                      2018-08-27 16:50:44      1549317\n",
      "PDF/6.pdf                                      2018-08-27 16:51:58      3649740\n",
      "PDF/7.pdf                                      2018-08-27 16:51:32      5139298\n",
      "PDF/8.pdf                                      2018-08-27 16:52:34      2237638\n",
      "PDF/9.pdf                                      2018-08-27 16:50:26      9706243\n"
     ]
    }
   ],
   "source": [
    "import zipfile\n",
    "z = zipfile.ZipFile(\"PDF.zip\")\n",
    "z.printdir()\n",
    "z.close()"
   ]
  },
  {
   "cell_type": "markdown",
   "metadata": {},
   "source": [
    "**Task 2.** Bruteforce the \"PDF.zip\" using the given dictionary file and print the correct password."
   ]
  },
  {
   "cell_type": "code",
   "execution_count": 3,
   "metadata": {},
   "outputs": [
    {
     "name": "stdout",
     "output_type": "stream",
     "text": [
      "Correct password: maprchem56458\n"
     ]
    }
   ],
   "source": [
    "import zipfile\n",
    "cracked = False\n",
    "z = zipfile.ZipFile(\"PDF.zip\")\n",
    "with open(\"dictionary.txt\") as f:\n",
    "    lines = f.readlines()\n",
    "for password in lines:\n",
    "    password = password.replace('\\n','')\n",
    "    try:\n",
    "        z.extractall(pwd=password)\n",
    "        correct_password = 'Correct password: %s' % password\n",
    "        cracked = True\n",
    "        break\n",
    "    except:\n",
    "        pass\n",
    "\n",
    "if cracked:\n",
    "    print correct_password\n",
    "else:\n",
    "    print \"Password not found\""
   ]
  },
  {
   "cell_type": "markdown",
   "metadata": {},
   "source": [
    "**Task 3.** Extract the files."
   ]
  },
  {
   "cell_type": "code",
   "execution_count": null,
   "metadata": {},
   "outputs": [],
   "source": [
    "import zipfile\n",
    "z = zipfile.ZipFile(\"PDF.zip\")\n",
    "files = z.namelist()\n",
    "z.setpassword(\"maprchem56458\")\n",
    "z.extractall()\n",
    "z.close()"
   ]
  }
 ],
 "metadata": {
  "kernelspec": {
   "display_name": "Python 2",
   "language": "python",
   "name": "python2"
  },
  "language_info": {
   "codemirror_mode": {
    "name": "ipython",
    "version": 2
   },
   "file_extension": ".py",
   "mimetype": "text/x-python",
   "name": "python",
   "nbconvert_exporter": "python",
   "pygments_lexer": "ipython2",
   "version": "2.7.15rc1"
  }
 },
 "nbformat": 4,
 "nbformat_minor": 2
}
