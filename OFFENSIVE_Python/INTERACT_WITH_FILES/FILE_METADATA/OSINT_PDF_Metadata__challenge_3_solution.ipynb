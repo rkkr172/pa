{
 "cells": [
  {
   "cell_type": "markdown",
   "metadata": {},
   "source": [
    "# Challenge 3: Metadata Mining from PDF dataset"
   ]
  },
  {
   "cell_type": "markdown",
   "metadata": {},
   "source": [
    "### Statement"
   ]
  },
  {
   "cell_type": "markdown",
   "metadata": {},
   "source": [
    "A collection of .pdf files is provided in PDF directory. Use this collection to perform the following tasks.\n",
    "\n",
    "**Note:** PyPDF2 library is available on the system"
   ]
  },
  {
   "cell_type": "markdown",
   "metadata": {},
   "source": [
    "### Tasks\n"
   ]
  },
  {
   "cell_type": "markdown",
   "metadata": {},
   "source": [
    "**Task 1:** Print the names of all files in the directory."
   ]
  },
  {
   "cell_type": "code",
   "execution_count": 23,
   "metadata": {},
   "outputs": [
    {
     "name": "stdout",
     "output_type": "stream",
     "text": [
      "1  7.pdf\n",
      "2  9.pdf\n",
      "3  1.pdf\n",
      "4  4.pdf\n",
      "5  10.pdf\n",
      "6  6.pdf\n",
      "7  8.pdf\n",
      "8  3.pdf\n",
      "9  5.pdf\n",
      "10  2.pdf\n"
     ]
    }
   ],
   "source": [
    "from PyPDF2 import PdfFileReader, PdfFileWriter\n",
    "import os\n",
    "\n",
    "file_list =  os.listdir(\"PDF\")\n",
    "\n",
    "counter = 1\n",
    "for f in file_list:\n",
    "    print str(counter)+\"  \"+f\n",
    "    counter = counter + 1"
   ]
  },
  {
   "cell_type": "markdown",
   "metadata": {},
   "source": [
    "**Task 2.** Print the superset of all attributes present in PDF metsadata."
   ]
  },
  {
   "cell_type": "code",
   "execution_count": 15,
   "metadata": {},
   "outputs": [
    {
     "name": "stdout",
     "output_type": "stream",
     "text": [
      "['ModDate', 'Trapped', 'Producer', 'CreationDate', 'Creator', 'Title', 'Author', 'Keywords', 'Subject']\n"
     ]
    }
   ],
   "source": [
    "from PyPDF2 import PdfFileReader, PdfFileWriter\n",
    "import os\n",
    "\n",
    "directory = \"PDF/\"\n",
    "file_list =  os.listdir(directory)\n",
    "\n",
    "attr_superset = []\n",
    "\n",
    "for f in file_list:\n",
    "    # Opening file\n",
    "    f = directory+f\n",
    "    with open(f, 'rb') as input_file:\n",
    "        reader = PdfFileReader(input_file)\n",
    "        metadata = reader.getDocumentInfo()\n",
    "        for item, value in metadata.iteritems():\n",
    "            item = item.replace('/','')\n",
    "            if item not in attr_superset:\n",
    "                attr_superset.append(item)\n",
    "            \n",
    "print attr_superset\n",
    "    "
   ]
  },
  {
   "cell_type": "markdown",
   "metadata": {},
   "source": [
    "**Task 3.** Print superset of softwares used to create the PDF files."
   ]
  },
  {
   "cell_type": "code",
   "execution_count": 12,
   "metadata": {},
   "outputs": [
    {
     "name": "stdout",
     "output_type": "stream",
     "text": [
      "[u'Adobe InDesign CC (Macintosh)', u'Adobe InDesign CC 2015 (Macintosh)', u'CorelDRAW X5', u'Adobe InDesign CC 2017 (Macintosh)', u'Adobe InDesign CS6 (Macintosh)', u'QuarkXPress(R) 4.1', u'Adobe InDesign CC 2014 (Macintosh)']\n"
     ]
    }
   ],
   "source": [
    "from PyPDF2 import PdfFileReader, PdfFileWriter\n",
    "import os\n",
    "\n",
    "def superset(target_field):\n",
    "    directory = \"PDF/\"\n",
    "    file_list =  os.listdir(directory)\n",
    "\n",
    "    result_supterset = []\n",
    "\n",
    "    for f in file_list:\n",
    "        # Opening file\n",
    "        f = directory+f\n",
    "        with open(f, 'rb') as input_file:\n",
    "            reader = PdfFileReader(input_file)\n",
    "            metadata = reader.getDocumentInfo()\n",
    "            if target_field in metadata:\n",
    "                field_value = metadata.get(target_field)\n",
    "                if field_value not in attr_superset:\n",
    "                    result_supterset.append(field_value)\n",
    "\n",
    "    return result_supterset\n",
    "    \n",
    "print superset('/Creator')"
   ]
  },
  {
   "cell_type": "markdown",
   "metadata": {},
   "source": [
    "**Task 4.** Print superset of authors who created these PDF files."
   ]
  },
  {
   "cell_type": "code",
   "execution_count": 19,
   "metadata": {},
   "outputs": [
    {
     "name": "stdout",
     "output_type": "stream",
     "text": [
      "[u'Amol', u'stanojev', u'United Energy Heating & Cooling']\n"
     ]
    }
   ],
   "source": [
    "print superset('/Author')"
   ]
  },
  {
   "cell_type": "markdown",
   "metadata": {},
   "source": [
    "**Task 5.** Print superset of values for all fields present in the attribute superset list."
   ]
  },
  {
   "cell_type": "code",
   "execution_count": 14,
   "metadata": {},
   "outputs": [
    {
     "name": "stdout",
     "output_type": "stream",
     "text": [
      "==========> /ModDate\n",
      "[u\"D:20140131140820+01'00'\", u\"D:20160301145326-05'00'\", u\"D:20160616191215+05'30'\", u\"D:20180116110453+11'00'\", u\"D:20160318175247+05'30'\", u\"D:20020811085301-04'00'\", u\"D:20120119165208+05'30'\", u\"D:20150924094404-05'00'\", u\"D:20170405161457-04'00'\"]\n",
      "==========> /Trapped\n",
      "['/False', '/False', '/False', '/False']\n",
      "==========> /Producer\n",
      "[u'Adobe PDF Library 10.0.1', u'Adobe PDF Library 15.0', u'Corel PDF Engine Version 15.0.0.486', u'Acrobat Distiller 17.0 (Macintosh)', u'Adobe PDF Library 10.0.1', u'Acrobat Distiller 3.01 for Power Macintosh', u'Acrobat Distiller 7.0 (Windows)', u'Adobe PDF Library 11.0']\n",
      "==========> /CreationDate\n",
      "[u\"D:20140131134324+01'00'\", u\"D:20160301145310-05'00'\", u\"D:20160616191215+05'30'\", u\"D:20171222101252+11'00'\", u\"D:20160318174858+05'30'\", u'D:20020404165209Z', u\"D:20120119164724+05'30'\", u\"D:20150924094404-05'00'\", u\"D:20170405160641-04'00'\"]\n",
      "==========> /Creator\n",
      "[u'Adobe InDesign CC (Macintosh)', u'Adobe InDesign CC 2015 (Macintosh)', u'CorelDRAW X5', u'Adobe InDesign CC 2017 (Macintosh)', u'Adobe InDesign CS6 (Macintosh)', u'QuarkXPress(R) 4.1', u'Adobe InDesign CC 2014 (Macintosh)']\n",
      "==========> /Title\n",
      "[u'full catalog 1 to 20', u'Wall Mounted Split System Air Conditioner Brochure', u'Mitsubishi Residential and Commercial Ductless - PDF Brochure', u'untitled']\n",
      "==========> /Author\n",
      "[u'Amol', u'stanojev', u'United Energy Heating & Cooling']\n",
      "==========> /Keywords\n",
      "[u'Kaden Wall Mounted Split System Air Conditioner Brochure', u'mitsubishi, ductless, air conditioners, air conditioning, cooling, split systems, residential, commercial']\n",
      "==========> /Subject\n",
      "[u'Kaden Wall Mounted Split System Air Conditioner Brochure', u'Visit http://www.unitedenergy.ca or call 416-503-3159 for more information']\n"
     ]
    }
   ],
   "source": [
    "\n",
    "for attr in attr_superset:\n",
    "    attr = '/'+attr\n",
    "    print \"==========> \"+attr\n",
    "    print superset(attr)"
   ]
  },
  {
   "cell_type": "markdown",
   "metadata": {},
   "source": [
    "**Task 6.** List the titles of all books from author \"Disney\"."
   ]
  },
  {
   "cell_type": "code",
   "execution_count": 20,
   "metadata": {},
   "outputs": [
    {
     "name": "stdout",
     "output_type": "stream",
     "text": [
      "{}\n"
     ]
    }
   ],
   "source": [
    "from PyPDF2 import PdfFileReader, PdfFileWriter\n",
    "import os\n",
    "\n",
    "def search_pdfs(target_field, target_value):\n",
    "    directory = \"PDF/\"\n",
    "    file_list =  os.listdir(directory)\n",
    "\n",
    "    files_matched = {}\n",
    "\n",
    "    for f in file_list:\n",
    "        # Opening file\n",
    "        f = directory+f\n",
    "        with open(f, 'rb') as input_file:\n",
    "            reader = PdfFileReader(input_file)\n",
    "            metadata = reader.getDocumentInfo()\n",
    "            if target_field in metadata:\n",
    "                field_value = metadata.get(target_field)\n",
    "                if target_value in field_value:\n",
    "                    files_matched[f.replace(directory, '')] = field_value\n",
    "                    \n",
    "    return files_matched\n",
    "\n",
    "print search_pdfs('/Author','Disney')\n",
    "    "
   ]
  },
  {
   "cell_type": "markdown",
   "metadata": {},
   "source": [
    "**Task 7.** Print the list of files which were generated using **Adobe** products."
   ]
  },
  {
   "cell_type": "code",
   "execution_count": 21,
   "metadata": {},
   "outputs": [
    {
     "name": "stdout",
     "output_type": "stream",
     "text": [
      "{'9.pdf': u'Adobe InDesign CC (Macintosh)', '1.pdf': u'Adobe InDesign CC 2015 (Macintosh)', '6.pdf': u'Adobe InDesign CS6 (Macintosh)', '2.pdf': u'Adobe InDesign CC 2014 (Macintosh)', '10.pdf': u'Adobe InDesign CC 2017 (Macintosh)'}\n"
     ]
    }
   ],
   "source": [
    "print search_pdfs('/Creator','Adobe')"
   ]
  }
 ],
 "metadata": {
  "kernelspec": {
   "display_name": "Python 2",
   "language": "python",
   "name": "python2"
  },
  "language_info": {
   "codemirror_mode": {
    "name": "ipython",
    "version": 2
   },
   "file_extension": ".py",
   "mimetype": "text/x-python",
   "name": "python",
   "nbconvert_exporter": "python",
   "pygments_lexer": "ipython2",
   "version": "2.7.15rc1"
  }
 },
 "nbformat": 4,
 "nbformat_minor": 2
}
