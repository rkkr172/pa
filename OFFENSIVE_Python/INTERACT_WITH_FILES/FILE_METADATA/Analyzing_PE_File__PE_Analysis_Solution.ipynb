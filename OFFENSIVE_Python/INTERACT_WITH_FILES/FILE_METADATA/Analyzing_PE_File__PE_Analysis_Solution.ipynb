{
 "cells": [
  {
   "cell_type": "markdown",
   "metadata": {},
   "source": [
    "# PE Analysis"
   ]
  },
  {
   "cell_type": "markdown",
   "metadata": {},
   "source": [
    "Two Windows PE files notepad.exe and notepad_upx.exe are present in the current working directory. The notepad_upx.exe is a packed version of notepad.exe. \n",
    "\n",
    "**Note:** PeFile library is available on the system\n"
   ]
  },
  {
   "cell_type": "markdown",
   "metadata": {},
   "source": [
    "### Tasks\n"
   ]
  },
  {
   "cell_type": "markdown",
   "metadata": {},
   "source": [
    "**Task 1.** Import the library and load notepad.exe binary."
   ]
  },
  {
   "cell_type": "code",
   "execution_count": 2,
   "metadata": {},
   "outputs": [
    {
     "data": {
      "text/plain": [
       "<pefile.PE at 0x7f76dc3c0090>"
      ]
     },
     "execution_count": 2,
     "metadata": {},
     "output_type": "execute_result"
    }
   ],
   "source": [
    "import pefile\n",
    "\n",
    "pe = pefile.PE('notepad.exe')\n",
    "\n",
    "pe"
   ]
  },
  {
   "cell_type": "markdown",
   "metadata": {},
   "source": [
    "**Task 2.** Print the structure of the file."
   ]
  },
  {
   "cell_type": "code",
   "execution_count": 3,
   "metadata": {},
   "outputs": [
    {
     "data": {
      "text/plain": [
       "['DIRECTORY_ENTRY_BASERELOC',\n",
       " 'DIRECTORY_ENTRY_DEBUG',\n",
       " 'DIRECTORY_ENTRY_IMPORT',\n",
       " 'DIRECTORY_ENTRY_LOAD_CONFIG',\n",
       " 'DIRECTORY_ENTRY_RESOURCE',\n",
       " 'DOS_HEADER',\n",
       " 'FILE_HEADER',\n",
       " 'FileInfo',\n",
       " 'NT_HEADERS',\n",
       " 'OPTIONAL_HEADER',\n",
       " 'PE_TYPE',\n",
       " 'RICH_HEADER',\n",
       " 'VS_FIXEDFILEINFO',\n",
       " 'VS_VERSIONINFO',\n",
       " '_PE__from_file',\n",
       " '_PE__warnings',\n",
       " '__IMAGE_BASE_RELOCATION_ENTRY_format__',\n",
       " '__IMAGE_BASE_RELOCATION_format__',\n",
       " '__IMAGE_BOUND_FORWARDER_REF_format__',\n",
       " '__IMAGE_BOUND_IMPORT_DESCRIPTOR_format__',\n",
       " '__IMAGE_DATA_DIRECTORY_format__',\n",
       " '__IMAGE_DEBUG_DIRECTORY_format__',\n",
       " '__IMAGE_DELAY_IMPORT_DESCRIPTOR_format__',\n",
       " '__IMAGE_DOS_HEADER_format__',\n",
       " '__IMAGE_EXPORT_DIRECTORY_format__',\n",
       " '__IMAGE_FILE_HEADER_format__',\n",
       " '__IMAGE_IMPORT_DESCRIPTOR_format__',\n",
       " '__IMAGE_LOAD_CONFIG_DIRECTORY64_format__',\n",
       " '__IMAGE_LOAD_CONFIG_DIRECTORY_format__',\n",
       " '__IMAGE_NT_HEADERS_format__',\n",
       " '__IMAGE_OPTIONAL_HEADER64_format__',\n",
       " '__IMAGE_OPTIONAL_HEADER_format__',\n",
       " '__IMAGE_RESOURCE_DATA_ENTRY_format__',\n",
       " '__IMAGE_RESOURCE_DIRECTORY_ENTRY_format__',\n",
       " '__IMAGE_RESOURCE_DIRECTORY_format__',\n",
       " '__IMAGE_SECTION_HEADER_format__',\n",
       " '__IMAGE_THUNK_DATA64_format__',\n",
       " '__IMAGE_THUNK_DATA_format__',\n",
       " '__IMAGE_TLS_DIRECTORY64_format__',\n",
       " '__IMAGE_TLS_DIRECTORY_format__',\n",
       " '__StringFileInfo_format__',\n",
       " '__StringTable_format__',\n",
       " '__String_format__',\n",
       " '__VS_FIXEDFILEINFO_format__',\n",
       " '__VS_VERSIONINFO_format__',\n",
       " '__Var_format__',\n",
       " '__class__',\n",
       " '__data__',\n",
       " '__delattr__',\n",
       " '__dict__',\n",
       " '__doc__',\n",
       " '__format__',\n",
       " '__getattribute__',\n",
       " '__hash__',\n",
       " '__init__',\n",
       " '__long__',\n",
       " '__module__',\n",
       " '__native__',\n",
       " '__new__',\n",
       " '__nonzero__',\n",
       " '__parse__',\n",
       " '__reduce__',\n",
       " '__reduce_ex__',\n",
       " '__repr__',\n",
       " '__setattr__',\n",
       " '__sizeof__',\n",
       " '__str__',\n",
       " '__structures__',\n",
       " '__subclasshook__',\n",
       " '__unicode__',\n",
       " '__unpack_data__',\n",
       " '__weakref__',\n",
       " 'adjust_FileAlignment',\n",
       " 'adjust_SectionAlignment',\n",
       " 'close',\n",
       " 'dump_dict',\n",
       " 'dump_info',\n",
       " 'dword_align',\n",
       " 'fileno',\n",
       " 'full_load',\n",
       " 'generate_checksum',\n",
       " 'get_bytes_from_data',\n",
       " 'get_data',\n",
       " 'get_data_from_dword',\n",
       " 'get_data_from_qword',\n",
       " 'get_data_from_word',\n",
       " 'get_dword_at_rva',\n",
       " 'get_dword_from_data',\n",
       " 'get_dword_from_offset',\n",
       " 'get_imphash',\n",
       " 'get_import_table',\n",
       " 'get_memory_mapped_image',\n",
       " 'get_offset_from_rva',\n",
       " 'get_overlay',\n",
       " 'get_overlay_data_start_offset',\n",
       " 'get_physical_by_rva',\n",
       " 'get_qword_at_rva',\n",
       " 'get_qword_from_data',\n",
       " 'get_qword_from_offset',\n",
       " 'get_resources_strings',\n",
       " 'get_rva_from_offset',\n",
       " 'get_section_by_offset',\n",
       " 'get_section_by_rva',\n",
       " 'get_string_at_rva',\n",
       " 'get_string_from_data',\n",
       " 'get_string_u_at_rva',\n",
       " 'get_warnings',\n",
       " 'get_word_at_rva',\n",
       " 'get_word_from_data',\n",
       " 'get_word_from_offset',\n",
       " 'has_relocs',\n",
       " 'header',\n",
       " 'is_dll',\n",
       " 'is_driver',\n",
       " 'is_exe',\n",
       " 'merge_modified_section_data',\n",
       " 'next',\n",
       " 'parse_data_directories',\n",
       " 'parse_debug_directory',\n",
       " 'parse_delay_import_directory',\n",
       " 'parse_directory_bound_imports',\n",
       " 'parse_directory_load_config',\n",
       " 'parse_directory_tls',\n",
       " 'parse_export_directory',\n",
       " 'parse_import_directory',\n",
       " 'parse_imports',\n",
       " 'parse_relocations',\n",
       " 'parse_relocations_directory',\n",
       " 'parse_resource_data_entry',\n",
       " 'parse_resource_entry',\n",
       " 'parse_resources_directory',\n",
       " 'parse_rich_header',\n",
       " 'parse_sections',\n",
       " 'parse_version_information',\n",
       " 'print_info',\n",
       " 'relocate_image',\n",
       " 'sections',\n",
       " 'set_bytes_at_offset',\n",
       " 'set_bytes_at_rva',\n",
       " 'set_dword_at_offset',\n",
       " 'set_dword_at_rva',\n",
       " 'set_qword_at_offset',\n",
       " 'set_qword_at_rva',\n",
       " 'set_word_at_offset',\n",
       " 'set_word_at_rva',\n",
       " 'show_warnings',\n",
       " 'trim',\n",
       " 'verify_checksum',\n",
       " 'write']"
      ]
     },
     "execution_count": 3,
     "metadata": {},
     "output_type": "execute_result"
    }
   ],
   "source": [
    "dir(pe)"
   ]
  },
  {
   "cell_type": "markdown",
   "metadata": {},
   "source": [
    "**Task 3.** Print the PE header"
   ]
  },
  {
   "cell_type": "code",
   "execution_count": 6,
   "metadata": {},
   "outputs": [
    {
     "data": {
      "text/plain": [
       "<Structure: [IMAGE_DOS_HEADER] 0x0 0x0 e_magic: 0x5A4D 0x2 0x2 e_cblp: 0x90 0x4 0x4 e_cp: 0x3 0x6 0x6 e_crlc: 0x0 0x8 0x8 e_cparhdr: 0x4 0xA 0xA e_minalloc: 0x0 0xC 0xC e_maxalloc: 0xFFFF 0xE 0xE e_ss: 0x0 0x10 0x10 e_sp: 0xB8 0x12 0x12 e_csum: 0x0 0x14 0x14 e_ip: 0x0 0x16 0x16 e_cs: 0x0 0x18 0x18 e_lfarlc: 0x40 0x1A 0x1A e_ovno: 0x0 0x1C 0x1C e_res: 0x24 0x24 e_oemid: 0x0 0x26 0x26 e_oeminfo: 0x0 0x28 0x28 e_res2: 0x3C 0x3C e_lfanew: 0xE8>"
      ]
     },
     "execution_count": 6,
     "metadata": {},
     "output_type": "execute_result"
    }
   ],
   "source": [
    "pe.DOS_HEADER"
   ]
  },
  {
   "cell_type": "markdown",
   "metadata": {},
   "source": [
    "**Task 4.** Import pprint and print the PE header."
   ]
  },
  {
   "cell_type": "code",
   "execution_count": 11,
   "metadata": {},
   "outputs": [
    {
     "name": "stdout",
     "output_type": "stream",
     "text": [
      "['__all_zeroes__',\n",
      " '__class__',\n",
      " '__delattr__',\n",
      " '__dict__',\n",
      " '__doc__',\n",
      " '__field_offsets__',\n",
      " '__file_offset__',\n",
      " '__format__',\n",
      " '__format_length__',\n",
      " '__get_format__',\n",
      " '__getattribute__',\n",
      " '__hash__',\n",
      " '__init__',\n",
      " '__keys__',\n",
      " '__long__',\n",
      " '__module__',\n",
      " '__native__',\n",
      " '__new__',\n",
      " '__nonzero__',\n",
      " '__pack__',\n",
      " '__reduce__',\n",
      " '__reduce_ex__',\n",
      " '__repr__',\n",
      " '__set_format__',\n",
      " '__setattr__',\n",
      " '__sizeof__',\n",
      " '__str__',\n",
      " '__subclasshook__',\n",
      " '__unicode__',\n",
      " '__unpack__',\n",
      " '__unpacked_data_elms__',\n",
      " '__weakref__',\n",
      " 'all_zeroes',\n",
      " 'dump',\n",
      " 'dump_dict',\n",
      " 'e_cblp',\n",
      " 'e_cp',\n",
      " 'e_cparhdr',\n",
      " 'e_crlc',\n",
      " 'e_cs',\n",
      " 'e_csum',\n",
      " 'e_ip',\n",
      " 'e_lfanew',\n",
      " 'e_lfarlc',\n",
      " 'e_magic',\n",
      " 'e_maxalloc',\n",
      " 'e_minalloc',\n",
      " 'e_oemid',\n",
      " 'e_oeminfo',\n",
      " 'e_ovno',\n",
      " 'e_res',\n",
      " 'e_res2',\n",
      " 'e_sp',\n",
      " 'e_ss',\n",
      " 'get_field_absolute_offset',\n",
      " 'get_field_relative_offset',\n",
      " 'get_file_offset',\n",
      " 'name',\n",
      " 'next',\n",
      " 'set_file_offset',\n",
      " 'sizeof',\n",
      " 'sizeof_type']\n"
     ]
    }
   ],
   "source": [
    "import pprint\n",
    "\n",
    "pprint.pprint(dir(pe.DOS_HEADER))"
   ]
  },
  {
   "cell_type": "markdown",
   "metadata": {},
   "source": [
    "**Task 5.** Print the magic number of the PE file in decimal, hex and ASCII"
   ]
  },
  {
   "cell_type": "code",
   "execution_count": 18,
   "metadata": {},
   "outputs": [
    {
     "name": "stdout",
     "output_type": "stream",
     "text": [
      "23117\n",
      "0x5a4d\n",
      "ZM\n"
     ]
    }
   ],
   "source": [
    "# Decimal\n",
    "print pe.DOS_HEADER.e_magic\n",
    "\n",
    "# Hex\n",
    "print hex(pe.DOS_HEADER.e_magic)\n",
    "\n",
    "# ASCII Char string\n",
    "a = hex(pe.DOS_HEADER.e_magic)\n",
    "a =  a[2:]\n",
    "print a.decode(\"hex\")"
   ]
  },
  {
   "cell_type": "markdown",
   "metadata": {},
   "source": [
    "**Task 6.** Print number of sections in the PE file"
   ]
  },
  {
   "cell_type": "code",
   "execution_count": 20,
   "metadata": {},
   "outputs": [
    {
     "name": "stdout",
     "output_type": "stream",
     "text": [
      "6\n"
     ]
    }
   ],
   "source": [
    "print pe.FILE_HEADER.NumberOfSections"
   ]
  },
  {
   "cell_type": "markdown",
   "metadata": {},
   "source": [
    "**Task 7.** Print sections of the PE file"
   ]
  },
  {
   "cell_type": "code",
   "execution_count": 21,
   "metadata": {},
   "outputs": [
    {
     "name": "stdout",
     "output_type": "stream",
     "text": [
      "[<Structure: [IMAGE_SECTION_HEADER] 0x1F0 0x0 Name: .text 0x1F8 0x8 Misc: 0x18D6E 0x1F8 0x8 Misc_PhysicalAddress: 0x18D6E 0x1F8 0x8 Misc_VirtualSize: 0x18D6E 0x1FC 0xC VirtualAddress: 0x1000 0x200 0x10 SizeOfRawData: 0x18E00 0x204 0x14 PointerToRawData: 0x400 0x208 0x18 PointerToRelocations: 0x0 0x20C 0x1C PointerToLinenumbers: 0x0 0x210 0x20 NumberOfRelocations: 0x0 0x212 0x22 NumberOfLinenumbers: 0x0 0x214 0x24 Characteristics: 0x60000020>, <Structure: [IMAGE_SECTION_HEADER] 0x218 0x0 Name: .rdata 0x220 0x8 Misc: 0x7560 0x220 0x8 Misc_PhysicalAddress: 0x7560 0x220 0x8 Misc_VirtualSize: 0x7560 0x224 0xC VirtualAddress: 0x1A000 0x228 0x10 SizeOfRawData: 0x7600 0x22C 0x14 PointerToRawData: 0x19200 0x230 0x18 PointerToRelocations: 0x0 0x234 0x1C PointerToLinenumbers: 0x0 0x238 0x20 NumberOfRelocations: 0x0 0x23A 0x22 NumberOfLinenumbers: 0x0 0x23C 0x24 Characteristics: 0x40000040>, <Structure: [IMAGE_SECTION_HEADER] 0x240 0x0 Name: .data 0x248 0x8 Misc: 0x2D14 0x248 0x8 Misc_PhysicalAddress: 0x2D14 0x248 0x8 Misc_VirtualSize: 0x2D14 0x24C 0xC VirtualAddress: 0x22000 0x250 0x10 SizeOfRawData: 0xC00 0x254 0x14 PointerToRawData: 0x20800 0x258 0x18 PointerToRelocations: 0x0 0x25C 0x1C PointerToLinenumbers: 0x0 0x260 0x20 NumberOfRelocations: 0x0 0x262 0x22 NumberOfLinenumbers: 0x0 0x264 0x24 Characteristics: 0xC0000040>, <Structure: [IMAGE_SECTION_HEADER] 0x268 0x0 Name: .pdata 0x270 0x8 Misc: 0x8B8 0x270 0x8 Misc_PhysicalAddress: 0x8B8 0x270 0x8 Misc_VirtualSize: 0x8B8 0x274 0xC VirtualAddress: 0x25000 0x278 0x10 SizeOfRawData: 0xA00 0x27C 0x14 PointerToRawData: 0x21400 0x280 0x18 PointerToRelocations: 0x0 0x284 0x1C PointerToLinenumbers: 0x0 0x288 0x20 NumberOfRelocations: 0x0 0x28A 0x22 NumberOfLinenumbers: 0x0 0x28C 0x24 Characteristics: 0x40000040>, <Structure: [IMAGE_SECTION_HEADER] 0x290 0x0 Name: .rsrc 0x298 0x8 Misc: 0x19CE0 0x298 0x8 Misc_PhysicalAddress: 0x19CE0 0x298 0x8 Misc_VirtualSize: 0x19CE0 0x29C 0xC VirtualAddress: 0x26000 0x2A0 0x10 SizeOfRawData: 0x19E00 0x2A4 0x14 PointerToRawData: 0x21E00 0x2A8 0x18 PointerToRelocations: 0x0 0x2AC 0x1C PointerToLinenumbers: 0x0 0x2B0 0x20 NumberOfRelocations: 0x0 0x2B2 0x22 NumberOfLinenumbers: 0x0 0x2B4 0x24 Characteristics: 0x40000040>, <Structure: [IMAGE_SECTION_HEADER] 0x2B8 0x0 Name: .reloc 0x2C0 0x8 Misc: 0x218 0x2C0 0x8 Misc_PhysicalAddress: 0x218 0x2C0 0x8 Misc_VirtualSize: 0x218 0x2C4 0xC VirtualAddress: 0x40000 0x2C8 0x10 SizeOfRawData: 0x400 0x2CC 0x14 PointerToRawData: 0x3BC00 0x2D0 0x18 PointerToRelocations: 0x0 0x2D4 0x1C PointerToLinenumbers: 0x0 0x2D8 0x20 NumberOfRelocations: 0x0 0x2DA 0x22 NumberOfLinenumbers: 0x0 0x2DC 0x24 Characteristics: 0x42000040>]\n"
     ]
    }
   ],
   "source": [
    "print pe.sections"
   ]
  },
  {
   "cell_type": "markdown",
   "metadata": {},
   "source": [
    "**Task 8.** Print the first section of the PE file"
   ]
  },
  {
   "cell_type": "code",
   "execution_count": 24,
   "metadata": {},
   "outputs": [
    {
     "name": "stdout",
     "output_type": "stream",
     "text": [
      "['Characteristics',\n",
      " 'IMAGE_SCN_ALIGN_1024BYTES',\n",
      " 'IMAGE_SCN_ALIGN_128BYTES',\n",
      " 'IMAGE_SCN_ALIGN_16BYTES',\n",
      " 'IMAGE_SCN_ALIGN_1BYTES',\n",
      " 'IMAGE_SCN_ALIGN_2048BYTES',\n",
      " 'IMAGE_SCN_ALIGN_256BYTES',\n",
      " 'IMAGE_SCN_ALIGN_2BYTES',\n",
      " 'IMAGE_SCN_ALIGN_32BYTES',\n",
      " 'IMAGE_SCN_ALIGN_4096BYTES',\n",
      " 'IMAGE_SCN_ALIGN_4BYTES',\n",
      " 'IMAGE_SCN_ALIGN_512BYTES',\n",
      " 'IMAGE_SCN_ALIGN_64BYTES',\n",
      " 'IMAGE_SCN_ALIGN_8192BYTES',\n",
      " 'IMAGE_SCN_ALIGN_8BYTES',\n",
      " 'IMAGE_SCN_ALIGN_MASK',\n",
      " 'IMAGE_SCN_CNT_CODE',\n",
      " 'IMAGE_SCN_CNT_INITIALIZED_DATA',\n",
      " 'IMAGE_SCN_CNT_UNINITIALIZED_DATA',\n",
      " 'IMAGE_SCN_GPREL',\n",
      " 'IMAGE_SCN_LNK_COMDAT',\n",
      " 'IMAGE_SCN_LNK_INFO',\n",
      " 'IMAGE_SCN_LNK_NRELOC_OVFL',\n",
      " 'IMAGE_SCN_LNK_OTHER',\n",
      " 'IMAGE_SCN_LNK_OVER',\n",
      " 'IMAGE_SCN_LNK_REMOVE',\n",
      " 'IMAGE_SCN_MEM_16BIT',\n",
      " 'IMAGE_SCN_MEM_DISCARDABLE',\n",
      " 'IMAGE_SCN_MEM_EXECUTE',\n",
      " 'IMAGE_SCN_MEM_FARDATA',\n",
      " 'IMAGE_SCN_MEM_LOCKED',\n",
      " 'IMAGE_SCN_MEM_NOT_CACHED',\n",
      " 'IMAGE_SCN_MEM_NOT_PAGED',\n",
      " 'IMAGE_SCN_MEM_PRELOAD',\n",
      " 'IMAGE_SCN_MEM_PROTECTED',\n",
      " 'IMAGE_SCN_MEM_PURGEABLE',\n",
      " 'IMAGE_SCN_MEM_READ',\n",
      " 'IMAGE_SCN_MEM_SHARED',\n",
      " 'IMAGE_SCN_MEM_SYSHEAP',\n",
      " 'IMAGE_SCN_MEM_WRITE',\n",
      " 'IMAGE_SCN_NO_DEFER_SPEC_EXC',\n",
      " 'IMAGE_SCN_TYPE_COPY',\n",
      " 'IMAGE_SCN_TYPE_DSECT',\n",
      " 'IMAGE_SCN_TYPE_GROUP',\n",
      " 'IMAGE_SCN_TYPE_NOLOAD',\n",
      " 'IMAGE_SCN_TYPE_NO_PAD',\n",
      " 'IMAGE_SCN_TYPE_REG',\n",
      " 'Misc',\n",
      " 'Misc_PhysicalAddress',\n",
      " 'Misc_VirtualSize',\n",
      " 'Name',\n",
      " 'NumberOfLinenumbers',\n",
      " 'NumberOfRelocations',\n",
      " 'PointerToLinenumbers',\n",
      " 'PointerToRawData',\n",
      " 'PointerToRelocations',\n",
      " 'SizeOfRawData',\n",
      " 'VirtualAddress',\n",
      " '__all_zeroes__',\n",
      " '__class__',\n",
      " '__delattr__',\n",
      " '__dict__',\n",
      " '__doc__',\n",
      " '__field_offsets__',\n",
      " '__file_offset__',\n",
      " '__format__',\n",
      " '__format_length__',\n",
      " '__get_format__',\n",
      " '__getattribute__',\n",
      " '__hash__',\n",
      " '__init__',\n",
      " '__keys__',\n",
      " '__long__',\n",
      " '__module__',\n",
      " '__native__',\n",
      " '__new__',\n",
      " '__nonzero__',\n",
      " '__pack__',\n",
      " '__reduce__',\n",
      " '__reduce_ex__',\n",
      " '__repr__',\n",
      " '__set_format__',\n",
      " '__setattr__',\n",
      " '__sizeof__',\n",
      " '__str__',\n",
      " '__subclasshook__',\n",
      " '__unicode__',\n",
      " '__unpack__',\n",
      " '__unpacked_data_elms__',\n",
      " '__weakref__',\n",
      " 'all_zeroes',\n",
      " 'contains',\n",
      " 'contains_offset',\n",
      " 'contains_rva',\n",
      " 'dump',\n",
      " 'dump_dict',\n",
      " 'entropy_H',\n",
      " 'get_data',\n",
      " 'get_entropy',\n",
      " 'get_field_absolute_offset',\n",
      " 'get_field_relative_offset',\n",
      " 'get_file_offset',\n",
      " 'get_hash_md5',\n",
      " 'get_hash_sha1',\n",
      " 'get_hash_sha256',\n",
      " 'get_hash_sha512',\n",
      " 'get_offset_from_rva',\n",
      " 'get_rva_from_offset',\n",
      " 'name',\n",
      " 'next',\n",
      " 'next_section_virtual_address',\n",
      " 'pe',\n",
      " 'set_file_offset',\n",
      " 'sizeof',\n",
      " 'sizeof_type']\n"
     ]
    }
   ],
   "source": [
    "pprint.pprint(dir(pe.sections[0]))"
   ]
  },
  {
   "cell_type": "markdown",
   "metadata": {},
   "source": [
    "**Task 9.** Print the name and size of raw data for each section."
   ]
  },
  {
   "cell_type": "code",
   "execution_count": 25,
   "metadata": {},
   "outputs": [
    {
     "name": "stdout",
     "output_type": "stream",
     "text": [
      ".text\u0000\u0000\u0000\n",
      "101888\n",
      "\n",
      "\n",
      ".rdata\u0000\u0000\n",
      "30208\n",
      "\n",
      "\n",
      ".data\u0000\u0000\u0000\n",
      "3072\n",
      "\n",
      "\n",
      ".pdata\u0000\u0000\n",
      "2560\n",
      "\n",
      "\n",
      ".rsrc\u0000\u0000\u0000\n",
      "105984\n",
      "\n",
      "\n",
      ".reloc\u0000\u0000\n",
      "1024\n",
      "\n",
      "\n"
     ]
    }
   ],
   "source": [
    "for section in pe.sections:\n",
    "    print section.Name\n",
    "    print section.SizeOfRawData\n",
    "    print '\\n'"
   ]
  },
  {
   "cell_type": "markdown",
   "metadata": {},
   "source": [
    "**Task 10:** Load notepad_upx.exe file and list the sections."
   ]
  },
  {
   "cell_type": "code",
   "execution_count": 1,
   "metadata": {},
   "outputs": [
    {
     "name": "stdout",
     "output_type": "stream",
     "text": [
      "UPX0\u0000\u0000\u0000\u0000\n",
      "0\n",
      "\n",
      "\n",
      "UPX1\u0000\u0000\u0000\u0000\n",
      "71680\n",
      "\n",
      "\n",
      ".rsrc\u0000\u0000\u0000\n",
      "108032\n",
      "\n",
      "\n"
     ]
    }
   ],
   "source": [
    "import pefile\n",
    "\n",
    "pe = pefile.PE('notepad_upx.exe')\n",
    "\n",
    "for section in pe.sections:\n",
    "    print section.Name\n",
    "    print section.SizeOfRawData\n",
    "    print '\\n'"
   ]
  }
 ],
 "metadata": {
  "kernelspec": {
   "display_name": "Python 2",
   "language": "python",
   "name": "python2"
  },
  "language_info": {
   "codemirror_mode": {
    "name": "ipython",
    "version": 2
   },
   "file_extension": ".py",
   "mimetype": "text/x-python",
   "name": "python",
   "nbconvert_exporter": "python",
   "pygments_lexer": "ipython2",
   "version": "2.7.15rc1"
  }
 },
 "nbformat": 4,
 "nbformat_minor": 2
}
