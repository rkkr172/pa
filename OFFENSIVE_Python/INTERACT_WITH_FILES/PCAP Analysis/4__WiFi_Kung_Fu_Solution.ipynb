{
 "cells": [
  {
   "cell_type": "markdown",
   "metadata": {},
   "source": [
    "# WiFi Kung Fu"
   ]
  },
  {
   "cell_type": "markdown",
   "metadata": {},
   "source": [
    "A WiFi PCAP files **WiFi_traffic.pcap** and **Hidden_Network.pcap** are present in the current working directory. Perform the following tasks using these PCAP.\n",
    "\n",
    "**Scapy** are installed on the machine."
   ]
  },
  {
   "cell_type": "markdown",
   "metadata": {},
   "source": [
    "## Tasks"
   ]
  },
  {
   "cell_type": "markdown",
   "metadata": {},
   "source": [
    "**Task 1:** Import scapy and load all packets of WiFi_traffic.pcap into a list."
   ]
  },
  {
   "cell_type": "code",
   "execution_count": 1,
   "metadata": {},
   "outputs": [],
   "source": [
    "from scapy.all import *\n",
    "\n",
    "packets = rdpcap('WiFi_traffic.pcap')"
   ]
  },
  {
   "cell_type": "markdown",
   "metadata": {},
   "source": [
    "**Task 2:** Write a program to print the MAC address of all unique WiFi devices. Use packets from the loaded list (i.e. WiFi_traffic.pcap loaded into list in Task 1)."
   ]
  },
  {
   "cell_type": "code",
   "execution_count": 2,
   "metadata": {},
   "outputs": [
    {
     "name": "stdout",
     "output_type": "stream",
     "text": [
      "1 6c:19:8f:5f:81:74\n",
      "2 c0:ee:fb:30:1f:6d\n",
      "3 34:e6:ad:56:e1:04\n",
      "4 5c:51:88:31:a0:3b\n",
      "5 bc:ae:c5:c3:5e:01\n",
      "6 c4:e9:84:09:7f:d3\n",
      "7 c8:be:19:79:31:90\n",
      "8 e4:f8:9c:96:a1:a9\n",
      "9 c4:12:f5:bf:de:54\n",
      "10 e8:de:27:16:87:18\n",
      "11 40:e2:30:12:10:8a\n",
      "12 10:08:b1:8c:f9:97\n",
      "13 ec:22:80:c3:4a:68\n",
      "14 3c:1e:04:28:0b:d7\n",
      "15 bc:f6:85:4d:b2:93\n",
      "16 54:b8:0a:58:0b:34\n",
      "17 a4:d1:8c:c5:b9:3e\n",
      "18 e8:de:27:16:70:c9\n",
      "19 94:44:52:74:e6:7a\n",
      "20 e0:06:e6:07:18:e5\n",
      "21 f4:dc:f9:52:3e:0d\n",
      "22 4c:80:93:94:d8:92\n",
      "23 00:1e:40:ed:4b:0f\n",
      "24 30:0d:43:13:3b:f0\n",
      "25 fc:b0:c4:91:71:e2\n",
      "26 fc:b0:c4:91:71:e1\n",
      "27 f4:d6:fb:a1:47:d2\n",
      "28 6c:72:20:6b:e3:ad\n",
      "29 fc:b0:c4:91:71:e3\n"
     ]
    }
   ],
   "source": [
    "import sys\n",
    "from scapy.all import *\n",
    "\n",
    "devices = set()\n",
    "\n",
    "def GetDevices(pkt) :\n",
    "    if pkt.haslayer(Dot11) :\n",
    "        if pkt.addr2 and ( pkt.addr2 not in devices ) :\n",
    "            devices.add(pkt.addr2)\n",
    "            print len(devices), pkt.addr2\n",
    "\n",
    "\n",
    "for pkt in packets:\n",
    "    GetDevices(pkt)\n"
   ]
  },
  {
   "cell_type": "markdown",
   "metadata": {},
   "source": [
    "**Task 3:** Write a program to print the MAC address of all unique WiFi devices. Use packets from the loaded list (i.e. WiFi_traffic.pcap loaded into list in Task 1).\n",
    "\n",
    "Please ignore the garbage values if you encounter any."
   ]
  },
  {
   "cell_type": "code",
   "execution_count": 3,
   "metadata": {},
   "outputs": [
    {
     "name": "stdout",
     "output_type": "stream",
     "text": [
      "1 6c:19:8f:5f:81:74 Home_Network\n",
      "2 6c:19:8f:5f:81:74 Xz\n",
      "3 6c:19:8f:5f:81:74 +R\n",
      "4 6c:19:8f:5f:81:74 :�\n",
      "5 6c:19:8f:5f:81:74 ��\n",
      "6 bc:ae:c5:c3:5e:01 BinarySecuritySolutions\n",
      "7 c8:be:19:79:31:90 Amazon Wood \n",
      "8 e8:de:27:16:87:18 SecurityTube_Open\n",
      "9 ec:22:80:c3:4a:68 dg_patel\n",
      "10 3c:1e:04:28:0b:d7 Angel Kusum\n",
      "11 bc:f6:85:4d:b2:93 Nirmall\n",
      "12 54:b8:0a:58:0b:34 GUNEEV\n",
      "13 c4:12:f5:bf:de:54 Incredible Holidays\n",
      "14 94:44:52:74:e6:7a belkin.367a\n",
      "15 00:1e:40:ed:4b:0f Shubha\n",
      "16 fc:b0:c4:91:71:e2 \n",
      "17 3c:1e:04:28:0b:d7 F�\n",
      "18 bc:ae:c5:c3:5e:01 ��\n",
      "19 c4:12:f5:bf:de:54 N�\n",
      "20 6c:72:20:6b:e3:ad Logistics\n"
     ]
    }
   ],
   "source": [
    "ssids = set()\n",
    "\n",
    "def GetSSID(pkt) :\n",
    "\n",
    "    if pkt.haslayer(Dot11Beacon) : \n",
    "        temp = pkt \n",
    "\n",
    "        while temp:\n",
    "            temp = temp.getlayer(Dot11Elt) \n",
    "            if temp and temp.ID == 0 and (temp.info not in ssids) :\t\n",
    "                ssids.add(temp.info)\n",
    "                print len(ssids), pkt.addr3, temp.info\n",
    "                break \n",
    "\n",
    "            temp = temp.payload \n",
    "\n",
    "for pkt in packets:\n",
    "    GetSSID(pkt)\n"
   ]
  },
  {
   "cell_type": "markdown",
   "metadata": {},
   "source": [
    "**Task 4:** Print the list of SSID requested in probe requests whenever a new probe request is encountered. Use packets from the loaded list (i.e. WiFi_traffic.pcap loaded into list in Task 1).\n",
    "\n",
    "This way of printing is to mimic the behavior of a real time WiFi scanner which actively sniffs the WiFi traffic and prints the updated table everytime a new probe request is encountred."
   ]
  },
  {
   "cell_type": "code",
   "execution_count": 4,
   "metadata": {},
   "outputs": [
    {
     "name": "stdout",
     "output_type": "stream",
     "text": [
      "New Probe Found:  5c:51:88:31:a0:3b Home_Network\n",
      "\n",
      "------------Client Probes Table ---------------\n",
      "\n",
      "1 5c:51:88:31:a0:3b Home_Network\n",
      "\n",
      "-----------------------------------------------\n",
      "\n",
      "New Probe Found:  30:0d:43:13:3b:f0 LazyArtists\n",
      "\n",
      "------------Client Probes Table ---------------\n",
      "\n",
      "1 5c:51:88:31:a0:3b Home_Network\n",
      "2 30:0d:43:13:3b:f0 LazyArtists\n",
      "\n",
      "-----------------------------------------------\n",
      "\n",
      "New Probe Found:  c4:e9:84:09:7f:d3 BinarySecuritySolutions\n",
      "\n",
      "------------Client Probes Table ---------------\n",
      "\n",
      "1 5c:51:88:31:a0:3b Home_Network\n",
      "2 30:0d:43:13:3b:f0 LazyArtists\n",
      "3 c4:e9:84:09:7f:d3 BinarySecuritySolutions\n",
      "\n",
      "-----------------------------------------------\n",
      "\n"
     ]
    }
   ],
   "source": [
    "clientprobes = set()\n",
    "\n",
    "def GetClientProbes(pkt) :\n",
    "\n",
    "    if pkt.haslayer(Dot11ProbeReq) :\n",
    "\n",
    "        if len(pkt.info) > 0 : \n",
    "            testcase = pkt.addr2 + '---' + pkt.info \n",
    "            if testcase not in clientprobes :\n",
    "                clientprobes.add(testcase) \n",
    "                print \"New Probe Found:  \" + pkt.addr2 + ' ' + pkt.info \n",
    "\n",
    "                print \"\\n------------Client Probes Table ---------------\\n\"\n",
    "                counter = 1\n",
    "                for probe in clientprobes :\n",
    "                    [client, ssid] = probe.split('---')\n",
    "                    print counter, client, ssid\n",
    "                    counter = counter + 1 \n",
    "                print \"\\n-----------------------------------------------\\n\"\n",
    "\n",
    "for pkt in packets:\n",
    "    GetClientProbes(pkt)\n"
   ]
  },
  {
   "cell_type": "markdown",
   "metadata": {},
   "source": [
    "**Task 5:** Check if there is any hidden WiFi network present in the locaded list packets."
   ]
  },
  {
   "cell_type": "code",
   "execution_count": 5,
   "metadata": {},
   "outputs": [
    {
     "name": "stdout",
     "output_type": "stream",
     "text": [
      "HIDDEN SSID Network Found! BSSID:  fc:b0:c4:91:71:e2\n",
      "HIDDEN SSID Network Found! BSSID:  fc:b0:c4:91:71:e1\n",
      "HIDDEN SSID Network Found! BSSID:  fc:b0:c4:91:71:e3\n"
     ]
    }
   ],
   "source": [
    "hidden_ssid_aps = set()\n",
    "\n",
    "def FindHinddenSSID(pkt) :\n",
    "\n",
    "    if pkt.haslayer(Dot11Beacon) :\n",
    "        if not pkt.info :\n",
    "            if pkt.addr3 not in hidden_ssid_aps :\n",
    "                hidden_ssid_aps.add(pkt.addr3)\n",
    "                print \"HIDDEN SSID Network Found! BSSID: \", pkt.addr3\n",
    "    elif pkt.haslayer(Dot11ProbeResp) and  ( pkt.addr3 in hidden_ssid_aps ) :\n",
    "        print \"HIDDEN SSID Uncovered! \", pkt.info, pkt.addr3 \n",
    "\n",
    "for pkt in packets:\n",
    "    FindHinddenSSID(pkt)"
   ]
  },
  {
   "cell_type": "markdown",
   "metadata": {},
   "source": [
    "**Task 6:** There is a hidden network present in **Hidden_Network.pcap**. Write a program to uncover it i.e. find the SSID name for it."
   ]
  },
  {
   "cell_type": "code",
   "execution_count": 1,
   "metadata": {},
   "outputs": [
    {
     "name": "stdout",
     "output_type": "stream",
     "text": [
      "HIDDEN SSID Network Found! BSSID:  50:c7:bf:c8:2a:1b\n",
      "HIDDEN SSID Uncovered!  AttackDefense 50:c7:bf:c8:2a:1b\n",
      "HIDDEN SSID Uncovered!  AttackDefense 50:c7:bf:c8:2a:1b\n",
      "HIDDEN SSID Uncovered!  AttackDefense 50:c7:bf:c8:2a:1b\n",
      "HIDDEN SSID Uncovered!  AttackDefense 50:c7:bf:c8:2a:1b\n",
      "HIDDEN SSID Uncovered!  AttackDefense 50:c7:bf:c8:2a:1b\n",
      "HIDDEN SSID Uncovered!  AttackDefense 50:c7:bf:c8:2a:1b\n"
     ]
    }
   ],
   "source": [
    "from scapy.all import *\n",
    "\n",
    "hidden_ssid_aps = set()\n",
    "\n",
    "def FindHinddenSSID(pkt) :\n",
    "\n",
    "    if pkt.haslayer(Dot11Beacon) :\n",
    "        if not pkt.info :\n",
    "            if pkt.addr3 not in hidden_ssid_aps :\n",
    "                hidden_ssid_aps.add(pkt.addr3)\n",
    "                print \"HIDDEN SSID Network Found! BSSID: \", pkt.addr3\n",
    "    elif pkt.haslayer(Dot11ProbeResp) and  ( pkt.addr3 in hidden_ssid_aps ) :\n",
    "        print \"HIDDEN SSID Uncovered! \", pkt.info, pkt.addr3 \n",
    "\n",
    "packets = rdpcap('Hidden_Network.pcap')\n",
    "\n",
    "for pkt in packets:\n",
    "    FindHinddenSSID(pkt)"
   ]
  },
  {
   "cell_type": "code",
   "execution_count": null,
   "metadata": {},
   "outputs": [],
   "source": []
  }
 ],
 "metadata": {
  "kernelspec": {
   "display_name": "Python 2",
   "language": "python",
   "name": "python2"
  },
  "language_info": {
   "codemirror_mode": {
    "name": "ipython",
    "version": 2
   },
   "file_extension": ".py",
   "mimetype": "text/x-python",
   "name": "python",
   "nbconvert_exporter": "python",
   "pygments_lexer": "ipython2",
   "version": "2.7.15rc1"
  }
 },
 "nbformat": 4,
 "nbformat_minor": 2
}
