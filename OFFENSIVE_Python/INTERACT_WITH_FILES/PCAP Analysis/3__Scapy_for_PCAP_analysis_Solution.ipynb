{
 "cells": [
  {
   "cell_type": "markdown",
   "metadata": {},
   "source": [
    "# Scapy for PCAP analysis"
   ]
  },
  {
   "cell_type": "markdown",
   "metadata": {},
   "source": [
    "A collection of PCAP files is present in the current working directory. Perform the following tasks on these PCAPs.\n",
    "\n",
    "**PyShark** and **Scapy** are installed on the machine."
   ]
  },
  {
   "cell_type": "markdown",
   "metadata": {},
   "source": [
    "## Tasks"
   ]
  },
  {
   "cell_type": "markdown",
   "metadata": {},
   "source": [
    "**Task 1:** Import all scapy modules"
   ]
  },
  {
   "cell_type": "code",
   "execution_count": 1,
   "metadata": {},
   "outputs": [],
   "source": [
    "from scapy.all import *"
   ]
  },
  {
   "cell_type": "markdown",
   "metadata": {},
   "source": [
    "**Task 2:** Load \"pcap/HTTP_Traffic_mini.pcap\" as a list and print the first 5 packets"
   ]
  },
  {
   "cell_type": "code",
   "execution_count": 22,
   "metadata": {},
   "outputs": [
    {
     "name": "stdout",
     "output_type": "stream",
     "text": [
      "\u0000PV�M\u0016\u0000\f",
      ")\u0007@A\b\u0000E\u0000\u0000E��@\u0000@\u00112��������\u0002�S\u00005\u00001z\u0017U�\u0001\u0000\u0000\u0001\u0000\u0000\u0000\u0000\u0000\u0000\u0005g-ecx\r",
      "images-amazon\u0003com\u0000\u0000\u0001\u0000\u0001\n",
      "\n",
      "\n",
      "\u0000PV�M\u0016\u0000\f",
      ")\u0007@A\b\u0000E\u0000\u0000E��@\u0000@\u00112��������\u0002�S\u00005\u00001z\u0017��\u0001\u0000\u0000\u0001\u0000\u0000\u0000\u0000\u0000\u0000\u0005g-ecx\r",
      "images-amazon\u0003com\u0000\u0000\u001c",
      "\u0000\u0001\n",
      "\n",
      "\n",
      "\u0000PV�M\u0016\u0000\f",
      ")\u0007@A\b\u0000E\u0000\u0000E��@\u0000@\u00112��������\u0002��\u00005\u00001z\u0017��\u0001\u0000\u0000\u0001\u0000\u0000\u0000\u0000\u0000\u0000\u0005g-ecx\r",
      "images-amazon\u0003com\u0000\u0000\u0001\u0000\u0001\n",
      "\n",
      "\n",
      "\u0000\f",
      ")\u0007@A\u0000PV�M\u0016\b\u0000E\u0000\u0000�3O\u0000\u0000�\u0011�\u0005���\u0002����\u00005�S\u0000�������\u0000\u0001\u0000\u0001\u0000\u0001\u0000\u0000\u0005g-ecx\r",
      "images-amazon\u0003com\u0000\u0000\u001c",
      "\u0000\u0001�\f",
      "\u0000\u0005\u0000\u0001\u0000\u0000\u0000\u0005\u0000\u001f\u000ed1ge0kk1l5kms0\n",
      "cloudfront\u0003net\u0000�5\u0000\u0006\u0000\u0001\u0000\u0000\u0000\u0005\u0000H\u0007ns-1553\tawsdns-02\u0002co\u0002uk\u0000\u0011awsdns-hostmaster\u0006amazon� \u0000\u0000\u0000\u0001\u0000\u0000\u001c",
      " \u0000\u0000\u0003�\u0000\u0012u\u0000\u0000\u0001Q�\n",
      "\n",
      "\n",
      "\u0000\f",
      ")\u0007@A\u0000PV�M\u0016\b\u0000E\u0000\u0000�3P\u0000\u0000�\u0011�����\u0002����\u00005�S\u0000�dpÚ�\u0000\u0001\u0000\t\u0000\u0000\u0000\u0000\u0005g-ecx\r",
      "images-amazon\u0003com\u0000\u0000\u0001\u0000\u0001�\f",
      "\u0000\u0005\u0000\u0001\u0000\u0000\u0000\u0005\u0000\u001f\u000ed1ge0kk1l5kms0\n",
      "cloudfront\u0003net\u0000�5\u0000\u0001\u0000\u0001\u0000\u0000\u0000\u0005\u0000\u00044Tl��5\u0000\u0001\u0000\u0001\u0000\u0000\u0000\u0005\u0000\u00044Tl��5\u0000\u0001\u0000\u0001\u0000\u0000\u0000\u0005\u0000\u00044Tl��5\u0000\u0001\u0000\u0001\u0000\u0000\u0000\u0005\u0000\u00044Tl��5\u0000\u0001\u0000\u0001\u0000\u0000\u0000\u0005\u0000\u00044Tl\u000b",
      "�5\u0000\u0001\u0000\u0001\u0000\u0000\u0000\u0005\u0000\u00044TlG�5\u0000\u0001\u0000\u0001\u0000\u0000\u0000\u0005\u0000\u00044Tl��5\u0000\u0001\u0000\u0001\u0000\u0000\u0000\u0005\u0000\u00044Tld\n",
      "\n",
      "\n"
     ]
    }
   ],
   "source": [
    "packets = rdpcap('HTTP_Traffic_mini.pcap')\n",
    "\n",
    "# Let's iterate through every packet\n",
    "for packet in packets[0:5]:\n",
    "    print packet\n",
    "    print \"\\n\""
   ]
  },
  {
   "cell_type": "markdown",
   "metadata": {},
   "source": [
    "**Task 3:** The output is not looking good. Print them in HEX format i.e. ab:2e:c1 "
   ]
  },
  {
   "cell_type": "code",
   "execution_count": 23,
   "metadata": {},
   "outputs": [
    {
     "name": "stdout",
     "output_type": "stream",
     "text": [
      "00:50:56:e5:4d:16:00:0c:29:07:40:41:08:00:45:00:00:45:8d:f2:40:00:40:11:32:e1:c0:a8:fc:80:c0:a8:fc:02:ab:53:00:35:00:31:7a:17:55:cd:01:00:00:01:00:00:00:00:00:00:05:67:2d:65:63:78:0d:69:6d:61:67:65:73:2d:61:6d:61:7a:6f:6e:03:63:6f:6d:00:00:01:00:01\n",
      "\n",
      "\n",
      "00:50:56:e5:4d:16:00:0c:29:07:40:41:08:00:45:00:00:45:8d:f3:40:00:40:11:32:e0:c0:a8:fc:80:c0:a8:fc:02:ab:53:00:35:00:31:7a:17:98:9e:01:00:00:01:00:00:00:00:00:00:05:67:2d:65:63:78:0d:69:6d:61:67:65:73:2d:61:6d:61:7a:6f:6e:03:63:6f:6d:00:00:1c:00:01\n",
      "\n",
      "\n",
      "00:50:56:e5:4d:16:00:0c:29:07:40:41:08:00:45:00:00:45:8d:f4:40:00:40:11:32:df:c0:a8:fc:80:c0:a8:fc:02:8c:e7:00:35:00:31:7a:17:ff:fd:01:00:00:01:00:00:00:00:00:00:05:67:2d:65:63:78:0d:69:6d:61:67:65:73:2d:61:6d:61:7a:6f:6e:03:63:6f:6d:00:00:01:00:01\n",
      "\n",
      "\n",
      "00:0c:29:07:40:41:00:50:56:e5:4d:16:08:00:45:00:00:c4:33:4f:00:00:80:11:8d:05:c0:a8:fc:02:c0:a8:fc:80:00:35:ab:53:00:b0:89:b6:98:9e:81:80:00:01:00:01:00:01:00:00:05:67:2d:65:63:78:0d:69:6d:61:67:65:73:2d:61:6d:61:7a:6f:6e:03:63:6f:6d:00:00:1c:00:01:c0:0c:00:05:00:01:00:00:00:05:00:1f:0e:64:31:67:65:30:6b:6b:31:6c:35:6b:6d:73:30:0a:63:6c:6f:75:64:66:72:6f:6e:74:03:6e:65:74:00:c0:35:00:06:00:01:00:00:00:05:00:48:07:6e:73:2d:31:35:35:33:09:61:77:73:64:6e:73:2d:30:32:02:63:6f:02:75:6b:00:11:61:77:73:64:6e:73:2d:68:6f:73:74:6d:61:73:74:65:72:06:61:6d:61:7a:6f:6e:c0:20:00:00:00:01:00:00:1c:20:00:00:03:84:00:12:75:00:00:01:51:80\n",
      "\n",
      "\n",
      "00:0c:29:07:40:41:00:50:56:e5:4d:16:08:00:45:00:00:f0:33:50:00:00:80:11:8c:d8:c0:a8:fc:02:c0:a8:fc:80:00:35:ab:53:00:dc:64:70:55:cd:81:80:00:01:00:09:00:00:00:00:05:67:2d:65:63:78:0d:69:6d:61:67:65:73:2d:61:6d:61:7a:6f:6e:03:63:6f:6d:00:00:01:00:01:c0:0c:00:05:00:01:00:00:00:05:00:1f:0e:64:31:67:65:30:6b:6b:31:6c:35:6b:6d:73:30:0a:63:6c:6f:75:64:66:72:6f:6e:74:03:6e:65:74:00:c0:35:00:01:00:01:00:00:00:05:00:04:34:54:6c:9d:c0:35:00:01:00:01:00:00:00:05:00:04:34:54:6c:b9:c0:35:00:01:00:01:00:00:00:05:00:04:34:54:6c:e1:c0:35:00:01:00:01:00:00:00:05:00:04:34:54:6c:88:c0:35:00:01:00:01:00:00:00:05:00:04:34:54:6c:0b:c0:35:00:01:00:01:00:00:00:05:00:04:34:54:6c:47:c0:35:00:01:00:01:00:00:00:05:00:04:34:54:6c:d2:c0:35:00:01:00:01:00:00:00:05:00:04:34:54:6c:64\n",
      "\n",
      "\n"
     ]
    }
   ],
   "source": [
    "for packet in packets[0:5]:\n",
    "    hex_dump = ':'.join(x.encode('hex') for x in str(packet))\n",
    "    print hex_dump\n",
    "    print \"\\n\""
   ]
  },
  {
   "cell_type": "markdown",
   "metadata": {},
   "source": [
    "**Task 4:** Loading the whole PCAP into memory is a good idea when working with smaller files on a powerful machine. But, if we try to load a large PCAP on a limited resource machine, it will not work or hang. \n",
    "\n",
    "\n",
    "For example, print packet 1000-1005 for PCAP \"pcap/HTTPS_traffic.pcap\".\n",
    "\n",
    "**Note:** If the python kernel dies, don't panic restart it from the menu."
   ]
  },
  {
   "cell_type": "code",
   "execution_count": null,
   "metadata": {},
   "outputs": [],
   "source": [
    "from scapy.all import *\n",
    "\n",
    "packets = rdpcap('HTTPS_traffic.pcap')\n",
    "\n",
    "counter = 0\n",
    "# Let's iterate through every packet\n",
    "for packet in packets:\n",
    "    counter = counter + 1\n",
    "    if counter > 999 and counter < 1006:\n",
    "        hex_dump = ':'.join(x.encode('hex') for x in str(packet))\n",
    "        print \"### Packet : \"+ str(counter)\n",
    "        print hex_dump\n",
    "        print \"\\n\"\n",
    "    if counter == 1006:\n",
    "        break"
   ]
  },
  {
   "cell_type": "markdown",
   "metadata": {},
   "source": [
    "**Task 5:** Read the packets from the PCAP one and print packet 1000-1005 for PCAP \"pcap/HTTP_traffic.pcap\"."
   ]
  },
  {
   "cell_type": "code",
   "execution_count": 1,
   "metadata": {},
   "outputs": [
    {
     "name": "stdout",
     "output_type": "stream",
     "text": [
      "### Packet : 1000\n",
      "f4:f2:6d:4e:a2:02:54:be:f7:88:84:cc:08:00:45:00:00:34:28:67:40:00:80:06:be:d8:c0:a8:00:88:68:41:ea:12:0c:cf:00:50:91:ff:b3:9f:00:00:00:00:80:02:20:00:e8:cd:00:00:02:04:05:b4:01:03:03:08:01:01:04:02\n",
      "\n",
      "\n",
      "### Packet : 1001\n",
      "54:be:f7:88:84:cc:f4:f2:6d:4e:a2:02:08:00:45:00:00:34:00:00:40:00:3d:06:2a:40:68:41:ea:12:c0:a8:00:88:00:50:0c:cf:81:b5:99:78:91:ff:b3:a0:80:12:72:10:7b:81:00:00:02:04:05:b4:01:01:04:02:01:03:03:05\n",
      "\n",
      "\n",
      "### Packet : 1002\n",
      "f4:f2:6d:4e:a2:02:54:be:f7:88:84:cc:08:00:45:00:00:28:28:68:40:00:80:06:be:e3:c0:a8:00:88:68:41:ea:12:0c:cf:00:50:91:ff:b3:a0:81:b5:99:79:50:10:01:00:2d:62:00:00\n",
      "\n",
      "\n",
      "### Packet : 1003\n",
      "f4:f2:6d:4e:a2:02:54:be:f7:88:84:cc:08:00:45:00:05:dc:28:69:40:00:80:06:b9:2e:c0:a8:00:88:68:41:ea:12:0c:cf:00:50:91:ff:b3:a0:81:b5:99:79:50:10:01:00:f9:f7:00:00:50:4f:53:54:20:2f:66:77:6c:69:6e:6b:2f:3f:4c:69:6e:6b:49:44:3d:32:35:32:36:36:39:26:63:6c:63:69:64:3d:30:78:34:30:39:20:48:54:54:50:2f:31:2e:31:0d:0a:43:6f:6e:6e:65:63:74:69:6f:6e:3a:20:4b:65:65:70:2d:41:6c:69:76:65:0d:0a:43:6f:6e:74:65:6e:74:2d:54:79:70:65:3a:20:74:65:78:74:2f:78:6d:6c:3b:20:63:68:61:72:73:65:74:3d:22:55:54:46:2d:31:36:4c:45:22:0d:0a:55:73:65:72:2d:41:67:65:6e:74:3a:20:4d:49:43:52:4f:53:4f:46:54:5f:44:45:56:49:43:45:5f:4d:45:54:41:44:41:54:41:5f:52:45:54:52:49:45:56:41:4c:5f:43:4c:49:45:4e:54:0d:0a:53:4f:41:50:41:63:74:69:6f:6e:3a:20:22:68:74:74:70:3a:2f:2f:73:63:68:65:6d:61:73:2e:6d:69:63:72:6f:73:6f:66:74:2e:63:6f:6d:2f:77:69:6e:64:6f:77:73:6d:65:74:61:64:61:74:61:2f:73:65:72:76:69:63:65:73:2f:32:30:30:37:2f:30:39:2f:31:38:2f:64:6d:73:2f:44:65:76:69:63:65:4d:65:74:61:64:61:74:61:53:65:72:76:69:63:65:2f:47:65:74:44:65:76:69:63:65:4d:65:74:61:64:61:74:61:22:0d:0a:43:6f:6e:74:65:6e:74:2d:4c:65:6e:67:74:68:3a:20:31:32:34:34:0d:0a:48:6f:73:74:3a:20:67:6f:2e:6d:69:63:72:6f:73:6f:66:74:2e:63:6f:6d:0d:0a:0d:0a:ff:fe:3c:00:3f:00:78:00:6d:00:6c:00:20:00:76:00:65:00:72:00:73:00:69:00:6f:00:6e:00:3d:00:22:00:31:00:2e:00:30:00:22:00:20:00:65:00:6e:00:63:00:6f:00:64:00:69:00:6e:00:67:00:3d:00:22:00:55:00:54:00:46:00:2d:00:31:00:36:00:22:00:3f:00:3e:00:3c:00:73:00:3a:00:45:00:6e:00:76:00:65:00:6c:00:6f:00:70:00:65:00:20:00:78:00:6d:00:6c:00:6e:00:73:00:3a:00:73:00:3d:00:22:00:68:00:74:00:74:00:70:00:3a:00:2f:00:2f:00:73:00:63:00:68:00:65:00:6d:00:61:00:73:00:2e:00:78:00:6d:00:6c:00:73:00:6f:00:61:00:70:00:2e:00:6f:00:72:00:67:00:2f:00:73:00:6f:00:61:00:70:00:2f:00:65:00:6e:00:76:00:65:00:6c:00:6f:00:70:00:65:00:2f:00:22:00:3e:00:3c:00:73:00:3a:00:48:00:65:00:61:00:64:00:65:00:72:00:3e:00:3c:00:68:00:3a:00:63:00:64:00:20:00:78:00:6d:00:6c:00:6e:00:73:00:3a:00:68:00:3d:00:22:00:68:00:74:00:74:00:70:00:3a:00:2f:00:2f:00:73:00:63:00:68:00:65:00:6d:00:61:00:73:00:2e:00:6d:00:69:00:63:00:72:00:6f:00:73:00:6f:00:66:00:74:00:2e:00:63:00:6f:00:6d:00:2f:00:77:00:69:00:6e:00:64:00:6f:00:77:00:73:00:6d:00:65:00:74:00:61:00:64:00:61:00:74:00:61:00:2f:00:73:00:65:00:72:00:76:00:69:00:63:00:65:00:73:00:2f:00:32:00:30:00:30:00:37:00:2f:00:30:00:39:00:2f:00:31:00:38:00:2f:00:64:00:6d:00:73:00:22:00:3e:00:3c:00:68:00:3a:00:63:00:76:00:3e:00:31:00:30:00:2e:00:30:00:2e:00:31:00:30:00:32:00:34:00:30:00:3c:00:2f:00:68:00:3a:00:63:00:76:00:3e:00:3c:00:68:00:3a:00:63:00:63:00:3e:00:55:00:53:00:41:00:3c:00:2f:00:68:00:3a:00:63:00:63:00:3e:00:3c:00:2f:00:68:00:3a:00:63:00:64:00:3e:00:3c:00:2f:00:73:00:3a:00:48:00:65:00:61:00:64:00:65:00:72:00:3e:00:3c:00:73:00:3a:00:42:00:6f:00:64:00:79:00:3e:00:3c:00:44:00:65:00:76:00:69:00:63:00:65:00:4d:00:65:00:74:00:61:00:64:00:61:00:74:00:61:00:42:00:61:00:74:00:63:00:68:00:52:00:65:00:71:00:75:00:65:00:73:00:74:00:20:00:78:00:6d:00:6c:00:6e:00:73:00:3d:00:22:00:68:00:74:00:74:00:70:00:3a:00:2f:00:2f:00:73:00:63:00:68:00:65:00:6d:00:61:00:73:00:2e:00:6d:00:69:00:63:00:72:00:6f:00:73:00:6f:00:66:00:74:00:2e:00:63:00:6f:00:6d:00:2f:00:77:00:69:00:6e:00:64:00:6f:00:77:00:73:00:6d:00:65:00:74:00:61:00:64:00:61:00:74:00:61:00:2f:00:73:00:65:00:72:00:76:00:69:00:63:00:65:00:73:00:2f:00:32:00:30:00:30:00:37:00:2f:00:30:00:39:00:2f:00:31:00:38:00:2f:00:64:00:6d:00:73:00:22:00:3e:00:3c:00:4c:00:6f:00:63:00:4c:00:69:00:73:00:74:00:3e:00:3c:00:6c:00:6f:00:63:00:3e:00:4d:00:75:00:6c:00:74:00:69:00:4c:00:6f:00:63:00:3c:00:2f:00:6c:00:6f:00:63:00:3e:00:3c:00:6c:00:6f:00:63:00:3e:00:65:00:6e:00:2d:00:55:00:53:00:3c:00:2f:00:6c:00:6f:00:63:00:3e:00:3c:00:6c:00:6f:00:63:00:3e:00:65:00:6e:00:3c:00:2f:00:6c:00:6f:00:63:00:3e:00:3c:00:2f:00:4c:00:6f:00:63:00:4c:00:69:00:73:00:74:00:3e:00:3c:00:4d:00:49:00:44:00:52:00:65:00:71:00:75:00:65:00:73:00:74:00:73:00:3e:00:3c:00:67:00:64:00:6d:00:64:00:6d:00:69:00:64:00:3e:00:3c:00:72:00:69:00:64:00:3e:00:33:00:30:00:3c:00:2f:00:72:00:69:00:64:00:3e:00:3c:00:6d:00:69:00:64:00:3e:00:36:00:45:00:33:00:32:00:46:00:30:00:33:00:46:00:2d:00:30:00:44:00:45:00:34:00:2d:00:35:00:45:00:36:00:46:00:2d:00:39:00:33:00:33:00:43:00:2d:00:37:00:46:00:39:00:38:00:36:00:35:00:30:00:39:00:39:00:35:00:34:00:37:00:3c:00:2f:00:6d:00:69:00:64:00:3e:00:3c:00:2f:00:67:00:64:00:6d:00:64:00:6d:00:69:00:64:00:3e:00:3c:00:2f:00:4d:00:49:00:44:00:52:00:65:00:71:00:75:00:65:00:73:00:74:00:73:00:3e:00:3c:00:48:00:57:00:49:00:44:00:52:00:65:00:71:00:75:00:65:00:73:00:74:00:73:00:3e:00:3c:00\n",
      "\n",
      "\n",
      "### Packet : 1004\n",
      "f4:f2:6d:4e:a2:02:54:be:f7:88:84:cc:08:00:45:00:00:aa:28:6a:40:00:80:06:be:5f:c0:a8:00:88:68:41:ea:12:0c:cf:00:50:91:ff:b9:54:81:b5:99:79:50:18:01:00:d5:0c:00:00:2f:00:48:00:57:00:49:00:44:00:52:00:65:00:71:00:75:00:65:00:73:00:74:00:73:00:3e:00:3c:00:2f:00:44:00:65:00:76:00:69:00:63:00:65:00:4d:00:65:00:74:00:61:00:64:00:61:00:74:00:61:00:42:00:61:00:74:00:63:00:68:00:52:00:65:00:71:00:75:00:65:00:73:00:74:00:3e:00:3c:00:2f:00:73:00:3a:00:42:00:6f:00:64:00:79:00:3e:00:3c:00:2f:00:73:00:3a:00:45:00:6e:00:76:00:65:00:6c:00:6f:00:70:00:65:00:3e:00\n",
      "\n",
      "\n",
      "### Packet : 1005\n",
      "ff:ff:ff:ff:ff:ff:7c:05:07:0e:fb:9b:08:06:00:01:08:00:06:04:00:01:7c:05:07:0e:fb:9b:c0:a8:00:55:00:00:00:00:00:00:c0:a8:00:01:00:00:00:00:00:00:00:00:00:00:00:00:00:00:00:00:00:00\n",
      "\n",
      "\n"
     ]
    }
   ],
   "source": [
    "from scapy.all import *\n",
    "\n",
    "counter = 0\n",
    "\n",
    "for packet in PcapReader('HTTPS_traffic.pcap'):\n",
    "    counter = counter + 1\n",
    "    if counter > 999 and counter < 1006:\n",
    "        hex_dump = ':'.join(x.encode('hex') for x in str(packet))\n",
    "        print \"### Packet : \"+ str(counter)\n",
    "        print hex_dump\n",
    "        print \"\\n\"\n",
    "    if counter == 1006:\n",
    "        break"
   ]
  },
  {
   "cell_type": "markdown",
   "metadata": {},
   "source": [
    "**Task 6:** Print the packet summary for first 5 packets from PCAP \"pcap/HTTPS_traffic.pcap\"."
   ]
  },
  {
   "cell_type": "code",
   "execution_count": 14,
   "metadata": {},
   "outputs": [
    {
     "name": "stdout",
     "output_type": "stream",
     "text": [
      "### Packet : 1\n",
      "Ether / 192.168.0.75 > 224.0.0.252 2 / Raw / Padding\n",
      "\n",
      "\n",
      "### Packet : 2\n",
      "Ether / fe80::b44c:b07c:a914:870e > ff02::16 (0) / IPv6ExtHdrHopByHop / ICMPv6MLReport2\n",
      "\n",
      "\n",
      "### Packet : 3\n",
      "Ether / IP / UDP 192.168.0.95:56418 > 239.255.255.250:1900 / Raw\n",
      "\n",
      "\n",
      "### Packet : 4\n",
      "Ether / IP / UDP 192.168.0.102:137 > 192.168.0.255:137 / NBNSQueryRequest\n",
      "\n",
      "\n",
      "### Packet : 5\n",
      "Ether / ARP who has 192.168.0.1 says 192.168.0.136\n",
      "\n",
      "\n",
      "### Packet : 6\n",
      "Ether / ARP is at f4:f2:6d:4e:a2:02 says 192.168.0.1 / Padding\n",
      "\n",
      "\n"
     ]
    }
   ],
   "source": [
    "from scapy.all import *\n",
    "\n",
    "counter = 0\n",
    "\n",
    "for packet in PcapReader('HTTPS_traffic.pcap'):\n",
    "    counter = counter + 1\n",
    "    print \"### Packet : \"+ str(counter)\n",
    "    print packet.summary()\n",
    "    print \"\\n\"\n",
    "    if counter == 6:\n",
    "        break"
   ]
  },
  {
   "cell_type": "markdown",
   "metadata": {},
   "source": [
    "**Task 7:** Print the complete detail for first packet of PCAP \"pcap/HTTPS_traffic.pcap\"."
   ]
  },
  {
   "cell_type": "code",
   "execution_count": 15,
   "metadata": {},
   "outputs": [
    {
     "name": "stdout",
     "output_type": "stream",
     "text": [
      "### Packet : 6\n",
      "###[ Ethernet ]### \n",
      "  dst       = 01:00:5e:00:00:fc\n",
      "  src       = 74:d4:35:d5:ce:ec\n",
      "  type      = 0x800\n",
      "###[ IP ]### \n",
      "     version   = 4\n",
      "     ihl       = 6\n",
      "     tos       = 0x0\n",
      "     len       = 32\n",
      "     id        = 11276\n",
      "     flags     = \n",
      "     frag      = 0\n",
      "     ttl       = 1\n",
      "     proto     = 2\n",
      "     chksum    = 0x56dc\n",
      "     src       = 192.168.0.75\n",
      "     dst       = 224.0.0.252\n",
      "     \\options   \\\n",
      "      |###[ IP Option Router Alert ]### \n",
      "      |  copy_flag = 1\n",
      "      |  optclass  = control\n",
      "      |  option    = router_alert\n",
      "      |  length    = 4\n",
      "      |  alert     = router_shall_examine_packet\n",
      "###[ Raw ]### \n",
      "        load      = '\\x16\\x00\\t\\x03\\xe0\\x00\\x00\\xfc'\n",
      "###[ Padding ]### \n",
      "           load      = '\\x00\\x00\\x00\\x00\\x00\\x00\\x00\\x00\\x00\\x00\\x00\\x00\\x00\\x00'\n",
      "\n",
      "None\n"
     ]
    }
   ],
   "source": [
    "from scapy.all import *\n",
    "\n",
    "for packet in PcapReader('HTTPS_traffic.pcap'):\n",
    "    print \"### Packet : \"+ str(counter)\n",
    "    print packet.show()\n",
    "    break"
   ]
  },
  {
   "cell_type": "markdown",
   "metadata": {},
   "source": [
    "**Task 8:** Count the total number of DNS packets from PCAP \"pcap/HTTPS_traffic.pcap\"."
   ]
  },
  {
   "cell_type": "code",
   "execution_count": 3,
   "metadata": {},
   "outputs": [
    {
     "name": "stdout",
     "output_type": "stream",
     "text": [
      "Total DNS packets: 2116\n"
     ]
    }
   ],
   "source": [
    "from scapy.all import *\n",
    "\n",
    "counter = 0\n",
    "\n",
    "for packet in PcapReader('HTTPS_traffic.pcap'):\n",
    "    if packet.haslayer(DNS):\n",
    "        counter = counter + 1\n",
    "\n",
    "print \"Total DNS packets: \"+str(counter)"
   ]
  },
  {
   "cell_type": "markdown",
   "metadata": {},
   "source": [
    "**Task 9:** Print the number of DNS responses packets for PCAP \"pcap/HTTPS_traffic.pcap\"."
   ]
  },
  {
   "cell_type": "code",
   "execution_count": 3,
   "metadata": {},
   "outputs": [
    {
     "name": "stdout",
     "output_type": "stream",
     "text": [
      "Total DNS Response packets: 251\n"
     ]
    }
   ],
   "source": [
    "from scapy.all import *\n",
    "\n",
    "response_counter = 0\n",
    "\n",
    "for packet in PcapReader('HTTPS_traffic.pcap'):\n",
    "    if packet.haslayer(DNSRR):\n",
    "        response_counter = response_counter + 1\n",
    "        \n",
    "\n",
    "print \"Total DNS Response packets: \"+str(response_counter)"
   ]
  },
  {
   "cell_type": "markdown",
   "metadata": {},
   "source": [
    "**Task 10:** Print the Domain name for first 10 DNS responses from PCAP \"pcap/HTTPS_traffic.pcap\"."
   ]
  },
  {
   "cell_type": "code",
   "execution_count": 2,
   "metadata": {},
   "outputs": [
    {
     "name": "stdout",
     "output_type": "stream",
     "text": [
      "1.  www.yahoo.com.\n",
      "2.  x0.x7.servers.nat-traversal.softether-network.net.\n",
      "3.  clients4.google.com.\n",
      "4.  go.microsoft.com.\n",
      "5.  windows.policies.live.net.\n",
      "6.  dmd.metaservices.microsoft.com.\n",
      "7.  win10.ipv6.microsoft.com.\n",
      "8.  www.msftncsi.com.\n",
      "9.  www.msftncsi.com.\n",
      "10.  get-my-ip-v6.ddns.softether-network.net.\n"
     ]
    }
   ],
   "source": [
    "from scapy.all import *\n",
    "\n",
    "counter = 0\n",
    "\n",
    "for packet in PcapReader('HTTPS_traffic.pcap'):\n",
    "    if packet.haslayer(DNSRR):\n",
    "        if isinstance(packet.an, DNSRR):\n",
    "            counter = counter +1\n",
    "            print str(counter)+\".  \"+packet.an.rrname\n",
    "            if counter == 10:\n",
    "                break\n"
   ]
  }
 ],
 "metadata": {
  "kernelspec": {
   "display_name": "Python 2",
   "language": "python",
   "name": "python2"
  },
  "language_info": {
   "codemirror_mode": {
    "name": "ipython",
    "version": 2
   },
   "file_extension": ".py",
   "mimetype": "text/x-python",
   "name": "python",
   "nbconvert_exporter": "python",
   "pygments_lexer": "ipython2",
   "version": "2.7.15rc1"
  }
 },
 "nbformat": 4,
 "nbformat_minor": 2
}
