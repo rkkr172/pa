{
 "cells": [
  {
   "cell_type": "markdown",
   "metadata": {},
   "source": [
    "# Analyzing HTTP Traffic"
   ]
  },
  {
   "cell_type": "markdown",
   "metadata": {},
   "source": [
    "A PCAP \"HTTP_Traffic.pcap\" is present in the current working directory. Write code snippets to read/process the PCAP and perform the given tasks.\n",
    "\n",
    "**PyShark** and **Scapy** are installed on the machine.\n",
    "\n"
   ]
  },
  {
   "cell_type": "markdown",
   "metadata": {},
   "source": [
    "### Hunting Tasks"
   ]
  },
  {
   "cell_type": "markdown",
   "metadata": {},
   "source": [
    "**Task 1:**  How many HTTP packets contain the \"password\" string?"
   ]
  },
  {
   "cell_type": "code",
   "execution_count": 1,
   "metadata": {},
   "outputs": [
    {
     "name": "stdout",
     "output_type": "stream",
     "text": [
      "4\n"
     ]
    }
   ],
   "source": [
    "import pyshark\n",
    "\n",
    "count = 0\n",
    "\n",
    "capture = pyshark.FileCapture('HTTP_traffic.pcap', display_filter='http contains password')\n",
    "\n",
    "for packet in capture:\n",
    "    count = count + 1\n",
    "\n",
    "print(count)"
   ]
  },
  {
   "cell_type": "markdown",
   "metadata": {},
   "source": [
    "**Task 2:**  Which IP address sent GET requests for New York Times (www.nytimes.com)?"
   ]
  },
  {
   "cell_type": "code",
   "execution_count": 2,
   "metadata": {},
   "outputs": [
    {
     "name": "stdout",
     "output_type": "stream",
     "text": [
      "['170.149.159.130']\n"
     ]
    }
   ],
   "source": [
    "import pyshark\n",
    "\n",
    "count = 0\n",
    "ip_list = []\n",
    "\n",
    "capture = pyshark.FileCapture('HTTP_traffic.pcap', display_filter='http.request.method==GET && http.host==\"www.nytimes.com\"')\n",
    "\n",
    "for packet in capture:\n",
    "    if packet.ip.dst not in ip_list:\n",
    "        ip_list.append(packet.ip.dst)\n",
    "\n",
    "print(ip_list)"
   ]
  },
  {
   "cell_type": "markdown",
   "metadata": {},
   "source": [
    "**Task 3:**  What is the session ID being used by 192.168.252.128 for Amazon India store (amazon.in)?"
   ]
  },
  {
   "cell_type": "code",
   "execution_count": 3,
   "metadata": {},
   "outputs": [
    {
     "name": "stdout",
     "output_type": "stream",
     "text": [
      "x-wl-uid=1YUrrvyo2aOwaC2tX1u3CL5JwhNCwEZhfsOUf8932b9zxC9BkYOYTKpVuh02IxmGM3Gs2/XgdUCA=; session-id-time=2082758401l; session-id=278-7381968-4337153; csm-hit=0JAE5VRXPMH77731K1TX+s-0JAE5VRXPMH77731K1TX|1466408308416; visitCount=2; ubid-acbin=280-4213374-9863463; lc-acbin=en_IN; session-token=4pTTa7bIe2i6bm7hJhGt4Jp7Mr2r5jgqscUc9YZTkXxjaaP+H+ezTpZLgyH8KjFSbiwETGfn0kOVzX5WUyryAQphMTcttvLjvBRVEBmw0UkKdZhVIoiDIT1EdQPUzTnfJDAQCKzdVpEGdKxlOlU+rQw+L2ZCE5eMBIZ2ip7xXq3PMsOCq+k2RSZ+4wh50U4EawgJPj7CaidkmVdFLbn0WrJKQw1f9hnd82LtRSDccz8FXsH8ksdKEQ==\n"
     ]
    }
   ],
   "source": [
    "import pyshark\n",
    "\n",
    "count = 0\n",
    "\n",
    "capture = pyshark.FileCapture('HTTP_traffic.pcap', display_filter='ip contains amazon.in && ip.src==192.168.252.128')\n",
    "\n",
    "for packet in capture:\n",
    "    print(packet.http.cookie)\n",
    "    break\n",
    "    "
   ]
  },
  {
   "cell_type": "markdown",
   "metadata": {},
   "source": [
    "**Task 4:**  What type of OS the machine on IP address 192.168.252.128 is using (i.e. Windows/Linux/MacOS/Solaris/Unix/BSD)? Bonus: Can you also guess the distribution/flavor?"
   ]
  },
  {
   "cell_type": "code",
   "execution_count": 4,
   "metadata": {},
   "outputs": [
    {
     "name": "stdout",
     "output_type": "stream",
     "text": [
      "Mozilla/5.0 (X11; Linux x86_64; rv:31.0) Gecko/20100101 Firefox/31.0 Iceweasel/31.8.0\n"
     ]
    }
   ],
   "source": [
    "import pyshark\n",
    "\n",
    "count = 0\n",
    "\n",
    "capture = pyshark.FileCapture('HTTP_traffic.pcap', display_filter='ip.src==192.168.252.128 && http')\n",
    "\n",
    "for packet in capture:\n",
    "    print(packet.http.user_agent)\n",
    "    break\n",
    "    "
   ]
  },
  {
   "cell_type": "markdown",
   "metadata": {},
   "source": [
    "### Gathering Tasks"
   ]
  },
  {
   "cell_type": "markdown",
   "metadata": {},
   "source": [
    "**Task 1:**  Create a unique list of websites visited from IP 192.168.252.128?"
   ]
  },
  {
   "cell_type": "code",
   "execution_count": 5,
   "metadata": {},
   "outputs": [
    {
     "name": "stdout",
     "output_type": "stream",
     "text": [
      "['amazon.in', 'images-amazon.com', 'amazon-adsystem.com', 'doubleclick.net', 'google.com', 'co.in', 'nytimes.com', 'googletagservices.com', 'optimizely.com', 'googleadservices.com', 'googlesyndication.com', 'cloudfront.net', 'moatads.com', 'facebook.net', 'imrworldwide.com', 'dynamicyield.com', 'amazonaws.com', 'chartbeat.net', 'scorecardresearch.com', 'media.net', 'keywee.co', 'newrelic.com', 'brealtime.com', 'adnxs.com', 'nr-data.net', 'securitytube.net', 'getclicky.com', 'statcounter.com', 'adbutler-tachyon.com', 'alexa.com', 'googleapis.com', 'gstatic.com', 'googletagmanager.com', 'bootstrapcdn.com', 'bizographics.com', 'webbyawards.com', 'tumblr.com', 'bbc.com', 'chartbeat.com', 'co.uk', 'facebook.com', 'twitter.com', 'cnn.com', 'turner.com', 'awe.sm', 'postrelease.com', 'rubiconproject.com', 'ugdturner.com', 'krxd.net', 'visualrevenue.com', 'go-mpulse.net', 'quantserve.com', 'outbrain.com', 'truste.com', 'usabilla.com', 'livefyre.com', 'gigya.com', 'budgetedbauer.com', 'zqtk.net', 'fallingfalcon.com', 'fyre.co', '2mdn.net', 'rlcdn.com', 'bluekai.com', 'nexac.com', 'effectivemeasure.net', 'adadvisor.net', 'ml314.com', 'visualdna.com', 'edigitalsurvey.com', 'mpstat.us']\n"
     ]
    }
   ],
   "source": [
    "import pyshark\n",
    "\n",
    "count = 0\n",
    "\n",
    "url_list = []\n",
    "\n",
    "capture = pyshark.FileCapture('HTTP_traffic.pcap', display_filter='ip.src==192.168.252.128 && http && http.request.method==\"GET\"')\n",
    "\n",
    "for packet in capture:\n",
    "    host_name = packet.http.host\n",
    "    host_name = \".\".join(host_name.split('.')[-2:])\n",
    "    if host_name not in url_list:\n",
    "        url_list.append(host_name)\n",
    "        \n",
    "print(url_list)"
   ]
  },
  {
   "cell_type": "markdown",
   "metadata": {},
   "source": [
    "**Task 2:**  Create a unique list of DNS servers were used to make DNS resolutions?"
   ]
  },
  {
   "cell_type": "code",
   "execution_count": 1,
   "metadata": {},
   "outputs": [
    {
     "name": "stdout",
     "output_type": "stream",
     "text": [
      "['192.168.252.2']\n"
     ]
    }
   ],
   "source": [
    "import pyshark\n",
    "\n",
    "count = 0\n",
    "\n",
    "unique_list = []\n",
    "\n",
    "capture = pyshark.FileCapture('HTTP_traffic.pcap', display_filter='dns.flags.response == 1')\n",
    "\n",
    "for packet in capture:\n",
    "    if packet.ip.src not in unique_list:\n",
    "        unique_list.append(packet.ip.src)\n",
    "        \n",
    "print(unique_list)"
   ]
  }
 ],
 "metadata": {
  "kernelspec": {
   "display_name": "Python 2",
   "language": "python",
   "name": "python2"
  },
  "language_info": {
   "codemirror_mode": {
    "name": "ipython",
    "version": 2
   },
   "file_extension": ".py",
   "mimetype": "text/x-python",
   "name": "python",
   "nbconvert_exporter": "python",
   "pygments_lexer": "ipython2",
   "version": "2.7.15rc1"
  }
 },
 "nbformat": 4,
 "nbformat_minor": 2
}
