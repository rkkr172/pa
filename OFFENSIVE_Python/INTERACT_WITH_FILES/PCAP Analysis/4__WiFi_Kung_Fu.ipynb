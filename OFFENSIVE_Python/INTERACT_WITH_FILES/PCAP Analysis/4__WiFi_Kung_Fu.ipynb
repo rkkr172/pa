{
 "cells": [
  {
   "cell_type": "markdown",
   "metadata": {},
   "source": [
    "# WiFi Kung Fu"
   ]
  },
  {
   "cell_type": "markdown",
   "metadata": {},
   "source": [
    "A WiFi PCAP files **WiFi_traffic.pcap** and **Hidden_Network.pcap** are present in the current working directory. Perform the following tasks using these PCAP.\n",
    "\n",
    "**Scapy** are installed on the machine."
   ]
  },
  {
   "cell_type": "markdown",
   "metadata": {},
   "source": [
    "## Tasks"
   ]
  },
  {
   "cell_type": "markdown",
   "metadata": {},
   "source": [
    "**Task 1:** Import scapy and load all packets of WiFi_traffic.pcap into a list."
   ]
  },
  {
   "cell_type": "code",
   "execution_count": 2,
   "metadata": {},
   "outputs": [],
   "source": []
  },
  {
   "cell_type": "markdown",
   "metadata": {},
   "source": [
    "**Task 2:** Write a program to print the MAC address of all unique WiFi devices. Use packets from the loaded list (i.e. WiFi_traffic.pcap loaded into list in Task 1)."
   ]
  },
  {
   "cell_type": "code",
   "execution_count": null,
   "metadata": {},
   "outputs": [],
   "source": []
  },
  {
   "cell_type": "markdown",
   "metadata": {},
   "source": [
    "**Task 3:** Write a program to print the MAC address of all unique WiFi devices. Use packets from the loaded list (i.e. WiFi_traffic.pcap loaded into list in Task 1).\n",
    "\n",
    "Please ignore the garbage values if you encounter any."
   ]
  },
  {
   "cell_type": "code",
   "execution_count": null,
   "metadata": {},
   "outputs": [],
   "source": []
  },
  {
   "cell_type": "markdown",
   "metadata": {},
   "source": [
    "**Task 4:** Print the list of SSID requested in probe requests whenever a new probe request is encountered. Use packets from the loaded list (i.e. WiFi_traffic.pcap loaded into list in Task 1).\n",
    "\n",
    "This way of printing is to mimic the behavior of a real time WiFi scanner which actively sniffs the WiFi traffic and prints the updated table everytime a new probe request is encountred."
   ]
  },
  {
   "cell_type": "code",
   "execution_count": null,
   "metadata": {},
   "outputs": [],
   "source": []
  },
  {
   "cell_type": "markdown",
   "metadata": {},
   "source": [
    "**Task 5:** Check if there is any hidden WiFi network present in the locaded list packets."
   ]
  },
  {
   "cell_type": "code",
   "execution_count": null,
   "metadata": {},
   "outputs": [],
   "source": []
  },
  {
   "cell_type": "markdown",
   "metadata": {},
   "source": [
    "**Task 6:** There is a hidden network present in **Hidden_Network.pcap**. Write a program to uncover it i.e. find the SSID name for it."
   ]
  },
  {
   "cell_type": "code",
   "execution_count": null,
   "metadata": {},
   "outputs": [],
   "source": []
  }
 ],
 "metadata": {
  "kernelspec": {
   "display_name": "Python 2",
   "language": "python",
   "name": "python2"
  },
  "language_info": {
   "codemirror_mode": {
    "name": "ipython",
    "version": 2
   },
   "file_extension": ".py",
   "mimetype": "text/x-python",
   "name": "python",
   "nbconvert_exporter": "python",
   "pygments_lexer": "ipython2",
   "version": "2.7.15rc1"
  }
 },
 "nbformat": 4,
 "nbformat_minor": 2
}
