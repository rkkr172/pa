{
 "cells": [
  {
   "cell_type": "markdown",
   "metadata": {},
   "source": [
    "# Banner Grab and Version Fingerprinting"
   ]
  },
  {
   "cell_type": "markdown",
   "metadata": {},
   "source": [
    "Following services are running on **default service ports** of machine **target machine** for user **pentester**.\n",
    "\n",
    "* SSH\n",
    "* Telnet\n",
    "* FTP\n",
    "* Web Server\n",
    "\n",
    "Write code snippets to perform the given tasks.\n",
    "\n",
    "All needed libraries are installed for both Python2.x and Python3.y\n",
    "\n"
   ]
  },
  {
   "cell_type": "markdown",
   "metadata": {},
   "source": [
    "### System Info"
   ]
  },
  {
   "cell_type": "code",
   "execution_count": null,
   "metadata": {},
   "outputs": [],
   "source": [
    "import socket\n",
    "import fcntl\n",
    "import struct\n",
    "\n",
    "ifname='eth1'\n",
    "\n",
    "new_socket = socket.socket(socket.AF_INET, socket.SOCK_DGRAM)\n",
    "attacker_ip = socket.inet_ntoa(fcntl.ioctl(new_socket.fileno(), 0x8915, struct.pack('256s', ifname[:15]))[20:24])\n",
    "target_ip = attacker_ip[:-1]+'3' \n",
    "\n",
    "print(\"Attacker machine IP: \", attacker_ip)\n",
    "print(\"Target machine IP: \", target_ip)"
   ]
  },
  {
   "cell_type": "markdown",
   "metadata": {},
   "source": [
    "**Task 1:**  Try to grab the first 1024 bytes from **FTP** service using python socket library."
   ]
  },
  {
   "cell_type": "code",
   "execution_count": null,
   "metadata": {},
   "outputs": [],
   "source": []
  },
  {
   "cell_type": "markdown",
   "metadata": {},
   "source": [
    "**Task 2:** Grab the **FTP** banner using FTPlib library."
   ]
  },
  {
   "cell_type": "code",
   "execution_count": null,
   "metadata": {},
   "outputs": [],
   "source": []
  },
  {
   "cell_type": "markdown",
   "metadata": {},
   "source": [
    "**Task 3:**  Fetch the **web server** name and version, using requests library."
   ]
  },
  {
   "cell_type": "code",
   "execution_count": null,
   "metadata": {},
   "outputs": [],
   "source": []
  },
  {
   "cell_type": "markdown",
   "metadata": {},
   "source": [
    "**Task 4:** Try to grab the first 1024 bytes from **Telnet** service using python socket library."
   ]
  },
  {
   "cell_type": "code",
   "execution_count": null,
   "metadata": {},
   "outputs": [],
   "source": []
  },
  {
   "cell_type": "markdown",
   "metadata": {},
   "source": [
    "**Task 5:**  Grab the **Telnet** banner using python pexpect library."
   ]
  },
  {
   "cell_type": "code",
   "execution_count": null,
   "metadata": {},
   "outputs": [],
   "source": []
  },
  {
   "cell_type": "markdown",
   "metadata": {},
   "source": [
    "**Task 6:** Try to grab the first 1024 bytes from **SSH** service using python socket library."
   ]
  },
  {
   "cell_type": "code",
   "execution_count": null,
   "metadata": {},
   "outputs": [],
   "source": []
  },
  {
   "cell_type": "markdown",
   "metadata": {},
   "source": [
    "**Task 7:**  Grab the **SSH** banner, security setting and peername if possible, using Paramiko library."
   ]
  },
  {
   "cell_type": "code",
   "execution_count": null,
   "metadata": {},
   "outputs": [],
   "source": []
  }
 ],
 "metadata": {
  "kernelspec": {
   "display_name": "Python 2",
   "language": "python",
   "name": "python2"
  },
  "language_info": {
   "codemirror_mode": {
    "name": "ipython",
    "version": 2
   },
   "file_extension": ".py",
   "mimetype": "text/x-python",
   "name": "python",
   "nbconvert_exporter": "python",
   "pygments_lexer": "ipython2",
   "version": "2.7.18"
  }
 },
 "nbformat": 4,
 "nbformat_minor": 4
}
