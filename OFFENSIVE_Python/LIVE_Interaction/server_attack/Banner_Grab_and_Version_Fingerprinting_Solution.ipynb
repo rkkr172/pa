{
 "cells": [
  {
   "cell_type": "markdown",
   "metadata": {},
   "source": [
    "# Banner Grab and Version Fingerprinting"
   ]
  },
  {
   "cell_type": "markdown",
   "metadata": {},
   "source": [
    "Following services are running on **default service ports** of machine **target machine** for user **pentester**.\n",
    "\n",
    "* SSH\n",
    "* Telnet\n",
    "* FTP\n",
    "* Web Server\n",
    "\n",
    "Write code snippets to perform the given tasks.\n",
    "\n",
    "All needed libraries are installed for both Python2.x and Python3.y\n",
    "\n"
   ]
  },
  {
   "cell_type": "markdown",
   "metadata": {},
   "source": [
    "### System Info"
   ]
  },
  {
   "cell_type": "code",
   "execution_count": 1,
   "metadata": {},
   "outputs": [
    {
     "name": "stdout",
     "output_type": "stream",
     "text": [
      "('Attacker machine IP: ', '192.3.119.2')\n",
      "('Target machine IP: ', '192.3.119.3')\n"
     ]
    }
   ],
   "source": [
    "import socket\n",
    "import fcntl\n",
    "import struct\n",
    "\n",
    "ifname='eth1'\n",
    "\n",
    "new_socket = socket.socket(socket.AF_INET, socket.SOCK_DGRAM)\n",
    "attacker_ip = socket.inet_ntoa(fcntl.ioctl(new_socket.fileno(), 0x8915, struct.pack('256s', ifname[:15]))[20:24])\n",
    "target_ip = attacker_ip[:-1]+'3' \n",
    "\n",
    "print(\"Attacker machine IP: \", attacker_ip)\n",
    "print(\"Target machine IP: \", target_ip)"
   ]
  },
  {
   "cell_type": "markdown",
   "metadata": {},
   "source": [
    "**Task 1:**  Try to grab the first 1024 bytes from **FTP** service using python socket library."
   ]
  },
  {
   "cell_type": "code",
   "execution_count": 70,
   "metadata": {},
   "outputs": [
    {
     "name": "stdout",
     "output_type": "stream",
     "text": [
      "FTP Banner: 220 Welcome to AttackDefense target FTP service.\n",
      "\n"
     ]
    }
   ],
   "source": [
    "import socket  \n",
    "import sys  \n",
    "import os \n",
    "\n",
    "host='172.17.0.3'\n",
    "port=21\n",
    "\n",
    "try:\n",
    "    s=socket.socket()\n",
    "    s.connect((host, port))\n",
    "    banner = s.recv(1024)\n",
    "    print \"FTP Info: \"+banner\n",
    "except:\n",
    "    print \"Exception\""
   ]
  },
  {
   "cell_type": "markdown",
   "metadata": {},
   "source": [
    "**Task 2:** Grab the **FTP** banner using FTPlib library."
   ]
  },
  {
   "cell_type": "code",
   "execution_count": 71,
   "metadata": {},
   "outputs": [
    {
     "name": "stdout",
     "output_type": "stream",
     "text": [
      "230 Login successful.\n",
      "220 Welcome to AttackDefense target FTP service.\n",
      "221 Goodbye.\n"
     ]
    }
   ],
   "source": [
    "from ftplib import FTP\n",
    "\n",
    "hostname='172.17.0.3'\n",
    "\n",
    "# Creating object\n",
    "ftp = FTP(hostname)\n",
    "# Logging as anonymous user\n",
    "print ftp.login()\n",
    "print ftp.getwelcome()\n",
    "# Disconnection\n",
    "print ftp.quit()"
   ]
  },
  {
   "cell_type": "markdown",
   "metadata": {},
   "source": [
    "**Task 3:**  Fetch the **web server** name and version, using requests library."
   ]
  },
  {
   "cell_type": "code",
   "execution_count": 72,
   "metadata": {},
   "outputs": [
    {
     "name": "stdout",
     "output_type": "stream",
     "text": [
      "{'Content-Length': '2113', 'Content-Encoding': 'gzip', 'Set-Cookie': '8e4fce3e05f703d153e8c82f64ff21bb=dol08fpguije42nks7envesh57; path=/; HttpOnly', 'Expires': 'Wed, 17 Aug 2005 00:00:00 GMT', 'Vary': 'Accept-Encoding', 'Keep-Alive': 'timeout=5, max=100', 'Server': 'Apache/2.4.18 (Ubuntu)', 'Last-Modified': 'Wed, 03 Oct 2018 23:47:18 GMT', 'Connection': 'Keep-Alive', 'Pragma': 'no-cache', 'Cache-Control': 'no-store, no-cache, must-revalidate, post-check=0, pre-check=0', 'Date': 'Wed, 03 Oct 2018 23:47:17 GMT', 'Content-Type': 'text/html; charset=utf-8'}\n"
     ]
    }
   ],
   "source": [
    "import requests\n",
    "\n",
    "host=\"172.17.0.3\"\n",
    "\n",
    "resp = requests.get('http://'+host)\n",
    "\n",
    "print(resp.headers)"
   ]
  },
  {
   "cell_type": "markdown",
   "metadata": {},
   "source": [
    "**Task 4:** Try to grab the first 1024 bytes from **Telnet** service using python socket library."
   ]
  },
  {
   "cell_type": "code",
   "execution_count": 73,
   "metadata": {},
   "outputs": [
    {
     "name": "stdout",
     "output_type": "stream",
     "text": [
      "Telnet Info: ��\u0018�� ��#��'\n"
     ]
    }
   ],
   "source": [
    "import socket  \n",
    "import sys  \n",
    "import os \n",
    "\n",
    "host='172.17.0.3'\n",
    "port=23\n",
    "\n",
    "try:\n",
    "    s=socket.socket()\n",
    "    s.connect((host, port))\n",
    "    banner = s.recv(1024)\n",
    "    print \"Telnet Info: \"+banner\n",
    "except:\n",
    "    print \"Exception\""
   ]
  },
  {
   "cell_type": "markdown",
   "metadata": {},
   "source": [
    "**Task 5:**  Grab the **Telnet** banner using python pexpect library."
   ]
  },
  {
   "cell_type": "code",
   "execution_count": 65,
   "metadata": {},
   "outputs": [
    {
     "name": "stdout",
     "output_type": "stream",
     "text": [
      "Trying 172.17.0.3...\n",
      "Connected to 172.17.0.3.\n",
      "Escape character is '^]'.\n",
      "Welcome to Telnet banner for AttackDefense Labs.\n",
      "3fd62be0ebec login\n"
     ]
    }
   ],
   "source": [
    "import pexpect, time\n",
    "\n",
    "# Launching the process\n",
    "child = pexpect.spawn ('telnet 172.17.0.3')\n",
    "# Expecting a username prompt\n",
    "child.expect(\":\")\n",
    "\n",
    "# Printing the interaction\n",
    "print child.before"
   ]
  },
  {
   "cell_type": "markdown",
   "metadata": {},
   "source": [
    "**Task 6:** Try to grab the first 1024 bytes from **SSH** service using python socket library."
   ]
  },
  {
   "cell_type": "code",
   "execution_count": 74,
   "metadata": {},
   "outputs": [
    {
     "name": "stdout",
     "output_type": "stream",
     "text": [
      "SSH Info: SSH-2.0-OpenSSH_7.2p2 Ubuntu-4ubuntu2.4\n",
      "\n"
     ]
    }
   ],
   "source": [
    "import socket  \n",
    "import sys  \n",
    "import os \n",
    "\n",
    "host='172.17.0.3'\n",
    "port=22\n",
    "\n",
    "try:\n",
    "    s=socket.socket()\n",
    "    s.connect((host, port))\n",
    "    banner = s.recv(1024)\n",
    "    print \"SSH Info: \"+banner\n",
    "except:\n",
    "    print \"Exception\""
   ]
  },
  {
   "cell_type": "markdown",
   "metadata": {},
   "source": [
    "**Task 7:**  Grab the **SSH** banner, security setting and peername if possible, using Paramiko library."
   ]
  },
  {
   "cell_type": "code",
   "execution_count": 75,
   "metadata": {},
   "outputs": [
    {
     "name": "stdout",
     "output_type": "stream",
     "text": [
      "This SSH service is hosted by AttackDefense.com\n",
      "\n",
      "<paramiko.SecurityOptions for <paramiko.Transport at 0xd669e1d0L (cipher aes128-ctr, 128 bits) (connected; awaiting auth)>>\n",
      "('172.17.0.3', 22)\n",
      "<class 'paramiko.ssh_exception.AuthenticationException'> Authentication failed.\n"
     ]
    }
   ],
   "source": [
    "import sys, paramiko\n",
    "\n",
    "hostname='172.17.0.3'\n",
    "port=22\n",
    "username='pentester'\n",
    "password=''\n",
    "\n",
    "try:\n",
    "    client = paramiko.SSHClient()\n",
    "    client.load_system_host_keys()\n",
    "    client.set_missing_host_key_policy(paramiko.AutoAddPolicy())\n",
    "    client.connect(hostname, port=port, username=username, password=password)\n",
    "    print(stdout.read())\n",
    "\n",
    "except Exception, e:\n",
    "    # Printing banner\n",
    "    print client._transport.get_banner()\n",
    "    # Printing security options\n",
    "    print client._transport.get_security_options()\n",
    "    # Printing peer info\n",
    "    print client._transport.getpeername()\n",
    "    # Exception\n",
    "    print sys.exc_info()[0], str(e)\n",
    "    \n",
    "finally:\n",
    "    client.close()\n"
   ]
  }
 ],
 "metadata": {
  "kernelspec": {
   "display_name": "Python 2",
   "language": "python",
   "name": "python2"
  },
  "language_info": {
   "codemirror_mode": {
    "name": "ipython",
    "version": 2
   },
   "file_extension": ".py",
   "mimetype": "text/x-python",
   "name": "python",
   "nbconvert_exporter": "python",
   "pygments_lexer": "ipython2",
   "version": "2.7.18"
  }
 },
 "nbformat": 4,
 "nbformat_minor": 4
}
