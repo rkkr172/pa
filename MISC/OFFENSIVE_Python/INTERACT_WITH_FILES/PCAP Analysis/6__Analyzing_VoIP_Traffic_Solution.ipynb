{
 "cells": [
  {
   "cell_type": "markdown",
   "metadata": {},
   "source": [
    "# Analyzing VoIP Traffic"
   ]
  },
  {
   "cell_type": "markdown",
   "metadata": {},
   "source": [
    "A PCAP \"VoIP_Traffic.pcap\" is present in the current working directory. Write code snippets to read/process the PCAP and perform the given tasks.\n",
    "\n",
    "**PyShark** and **Scapy** are installed on the machine.\n",
    "\n"
   ]
  },
  {
   "cell_type": "markdown",
   "metadata": {},
   "source": [
    "### Hunting Tasks"
   ]
  },
  {
   "cell_type": "markdown",
   "metadata": {},
   "source": [
    "**Task 1:**  What is the IP address of the user who is using the Zoiper VoIP client?"
   ]
  },
  {
   "cell_type": "code",
   "execution_count": 2,
   "metadata": {},
   "outputs": [
    {
     "name": "stdout",
     "output_type": "stream",
     "text": [
      "['192.168.10.15']\n"
     ]
    }
   ],
   "source": [
    "import pyshark\n",
    "\n",
    "result_list=[]\n",
    "\n",
    "capture = pyshark.FileCapture('VoIP_traffic.pcap', display_filter='sip contains Zoiper')\n",
    "\n",
    "for packet in capture:\n",
    "    if packet.ip.src not in result_list:\n",
    "        result_list.append(packet.ip.src)\n",
    "        \n",
    "print(result_list)\n"
   ]
  },
  {
   "cell_type": "markdown",
   "metadata": {},
   "source": [
    "**Task 2:**  What is the IP address of the SIP server used to place calls?"
   ]
  },
  {
   "cell_type": "code",
   "execution_count": 3,
   "metadata": {},
   "outputs": [
    {
     "name": "stdout",
     "output_type": "stream",
     "text": [
      "['208.51.63.146']\n"
     ]
    }
   ],
   "source": [
    "import pyshark\n",
    "\n",
    "result_list=[]\n",
    "\n",
    "capture = pyshark.FileCapture('VoIP_traffic.pcap', display_filter='sip.Method==REGISTER')\n",
    "\n",
    "for packet in capture:\n",
    "    if packet.ip.dst not in result_list:\n",
    "        result_list.append(packet.ip.dst)\n",
    "        \n",
    "print(result_list)\n"
   ]
  },
  {
   "cell_type": "markdown",
   "metadata": {},
   "source": [
    "**Task 3:**  Which country the owner of number 8108591527 belongs to?"
   ]
  },
  {
   "cell_type": "code",
   "execution_count": 12,
   "metadata": {},
   "outputs": [
    {
     "name": "stdout",
     "output_type": "stream",
     "text": [
      "Layer SIP:\n",
      "\tDude test text \n",
      "\tFrom: <sip:085499826@sip.callwithus.com;transport=UDP>;tag=8ffcb62b\n",
      "\tSIP to address Host Part: sip.callwithus.com\n",
      "\tBranch: z9hG4bK-524287-1---7a194d9123c7abaa\n",
      "\tMax-Forwards: 70\n",
      "\tRequest-Line: MESSAGE sip:+918108591527@sip.callwithus.com;transport=UDP SIP/2.0\n",
      "\tMessage Header\n",
      "\tSIP From URI parameter: transport=UDP\n",
      "\tRequest-URI User Part: +918108591527\n",
      "\tContent-Length: 15\n",
      "\tSIP from tag: 8ffcb62b\n",
      "\tCSeq: 2 MESSAGE\n",
      "\tSIP to address: sip:+918108591527@sip.callwithus.com;transport=UDP\n",
      "\tVia: SIP/2.0/UDP 192.168.10.15:55065;branch=z9hG4bK-524287-1---7a194d9123c7abaa;rport\n",
      "\tSent-by Address: 192.168.10.15\n",
      "\tAllow-Events: presence, kpml\n",
      "\tSIP To URI parameter: transport=UDP\n",
      "\tCall-ID: zyOUBsEltl0p1Gm4_s9Ceg..\n",
      "\tMethod: MESSAGE\n",
      "\tSIP from address User Part: 085499826\n",
      "\tSIP to address User Part: +918108591527\n",
      "\tSequence Number: 2\n",
      "\tTo: <sip:+918108591527@sip.callwithus.com;transport=UDP>\n",
      "\tRequest-URI: sip:+918108591527@sip.callwithus.com;transport=UDP\n",
      "\tCountry Code: India (Republic of) (91)\n",
      "\tSent-by port: 55065\n",
      "\tSIP from address: sip:085499826@sip.callwithus.com;transport=UDP\n",
      "\tContent-Type: text/plain\n",
      "\tResent Packet: False\n",
      "\tMethod: MESSAGE\n",
      "\tMessage Body\n",
      "\tSIP from address Host Part: sip.callwithus.com\n",
      "\tRPort: rport\n",
      "\tE.164 number (MSISDN): 918108591527\n",
      "\tAllow: INVITE, ACK, CANCEL, BYE, NOTIFY, REFER, MESSAGE, OPTIONS, INFO, SUBSCRIBE\n",
      "\tRequest-URI Host Part: sip.callwithus.com\n",
      "\tTransport: UDP\n",
      "\tUser-Agent: Zoiper r656527b\n",
      "\tCountry Code: India (Republic of) (91)\n",
      "\tE.164 number (MSISDN): 918108591527\n",
      "\n",
      "Layer SIP:\n",
      "\tDude test text \n",
      "\tSuspected resend of frame: 159\n",
      "\tSIP to address Host Part: sip.callwithus.com\n",
      "\tFrom: <sip:085499826@sip.callwithus.com;transport=UDP>;tag=8ffcb62b\n",
      "\tBranch: z9hG4bK-524287-1---7a194d9123c7abaa\n",
      "\tMax-Forwards: 70\n",
      "\tRequest-Line: MESSAGE sip:+918108591527@sip.callwithus.com;transport=UDP SIP/2.0\n",
      "\tMessage Header\n",
      "\tSIP From URI parameter: transport=UDP\n",
      "\tRequest-URI User Part: +918108591527\n",
      "\tContent-Length: 15\n",
      "\tSIP from tag: 8ffcb62b\n",
      "\tCSeq: 2 MESSAGE\n",
      "\tSIP to address: sip:+918108591527@sip.callwithus.com;transport=UDP\n",
      "\tVia: SIP/2.0/UDP 192.168.10.15:55065;branch=z9hG4bK-524287-1---7a194d9123c7abaa;rport\n",
      "\tSent-by Address: 192.168.10.15\n",
      "\tAllow-Events: presence, kpml\n",
      "\tSIP To URI parameter: transport=UDP\n",
      "\tCall-ID: zyOUBsEltl0p1Gm4_s9Ceg..\n",
      "\tMethod: MESSAGE\n",
      "\tSIP from address User Part: 085499826\n",
      "\tSIP to address User Part: +918108591527\n",
      "\tSequence Number: 2\n",
      "\tTo: <sip:+918108591527@sip.callwithus.com;transport=UDP>\n",
      "\tRequest-URI: sip:+918108591527@sip.callwithus.com;transport=UDP\n",
      "\tCountry Code: India (Republic of) (91)\n",
      "\tSent-by port: 55065\n",
      "\tSIP from address: sip:085499826@sip.callwithus.com;transport=UDP\n",
      "\tContent-Type: text/plain\n",
      "\tResent Packet: True\n",
      "\tMethod: MESSAGE\n",
      "\tMessage Body\n",
      "\tSIP from address Host Part: sip.callwithus.com\n",
      "\tRPort: rport\n",
      "\tE.164 number (MSISDN): 918108591527\n",
      "\tAllow: INVITE, ACK, CANCEL, BYE, NOTIFY, REFER, MESSAGE, OPTIONS, INFO, SUBSCRIBE\n",
      "\tRequest-URI Host Part: sip.callwithus.com\n",
      "\tTransport: UDP\n",
      "\tUser-Agent: Zoiper r656527b\n",
      "\tCountry Code: India (Republic of) (91)\n",
      "\tE.164 number (MSISDN): 918108591527\n",
      "\n",
      "Layer SIP:\n",
      "\tDude test text \n",
      "\tFrom: <sip:085499826@sip.callwithus.com;transport=UDP>;tag=8ffcb62b\n",
      "\tSIP to address Host Part: sip.callwithus.com\n",
      "\tBranch: z9hG4bK-524287-1---604f7c0f9535d929\n",
      "\tMax-Forwards: 70\n",
      "\tRequest-Line: MESSAGE sip:+918108591527@sip.callwithus.com;transport=UDP SIP/2.0\n",
      "\tMessage Header\n",
      "\tSIP From URI parameter: transport=UDP\n",
      "\tAlgorithm: MD5\n",
      "\tRequest-URI User Part: +918108591527\n",
      "\tContent-Length: 15\n",
      "\tSIP from tag: 8ffcb62b\n",
      "\tCSeq: 3 MESSAGE\n",
      "\tSIP to address: sip:+918108591527@sip.callwithus.com;transport=UDP\n",
      "\tVia: SIP/2.0/UDP 192.168.10.15:55065;branch=z9hG4bK-524287-1---604f7c0f9535d929;rport\n",
      "\tSent-by Address: 192.168.10.15\n",
      "\tAuthentication URI: \"sip:+918108591527@sip.callwithus.com;transport=UDP\"\n",
      "\tAllow-Events: presence, kpml\n",
      "\tSIP To URI parameter: transport=UDP\n",
      "\tCall-ID: zyOUBsEltl0p1Gm4_s9Ceg..\n",
      "\tMethod: MESSAGE\n",
      "\tUsername: \"085499826\"\n",
      "\tSIP from address User Part: 085499826\n",
      "\tSIP to address User Part: +918108591527\n",
      "\tProxy-Authorization: Digest username=\"085499826\",realm=\"sip.callwithus.com\",nonce=\"V2J/nldifnKEgeuvFEoDEGvIf5oXcHkI\",uri=\"sip:+918108591527@sip.callwithus.com;transport=UDP\",response=\"bc1c83684f6873681c4437626d286b7f\",algorithm=MD5\n",
      "\tSequence Number: 3\n",
      "\tDigest Authentication Response: \"bc1c83684f6873681c4437626d286b7f\"\n",
      "\tTo: <sip:+918108591527@sip.callwithus.com;transport=UDP>\n",
      "\tRequest-URI: sip:+918108591527@sip.callwithus.com;transport=UDP\n",
      "\tCountry Code: India (Republic of) (91)\n",
      "\tSent-by port: 55065\n",
      "\tNonce Value: \"V2J/nldifnKEgeuvFEoDEGvIf5oXcHkI\"\n",
      "\tSIP from address: sip:085499826@sip.callwithus.com;transport=UDP\n",
      "\tContent-Type: text/plain\n",
      "\tResent Packet: False\n",
      "\tMethod: MESSAGE\n",
      "\tMessage Body\n",
      "\tRealm: \"sip.callwithus.com\"\n",
      "\tSIP from address Host Part: sip.callwithus.com\n",
      "\tAuthentication Scheme: Digest\n",
      "\tRPort: rport\n",
      "\tE.164 number (MSISDN): 918108591527\n",
      "\tAllow: INVITE, ACK, CANCEL, BYE, NOTIFY, REFER, MESSAGE, OPTIONS, INFO, SUBSCRIBE\n",
      "\tRequest-URI Host Part: sip.callwithus.com\n",
      "\tTransport: UDP\n",
      "\tUser-Agent: Zoiper r656527b\n",
      "\tCountry Code: India (Republic of) (91)\n",
      "\tE.164 number (MSISDN): 918108591527\n",
      "\n"
     ]
    }
   ],
   "source": [
    "import pyshark\n",
    "\n",
    "count = 0\n",
    "result_list = []\n",
    "\n",
    "capture = pyshark.FileCapture('VoIP_traffic.pcap', display_filter='sip.Method==\"MESSAGE\" && sip contains 8108591527')\n",
    "\n",
    "for packet in capture:\n",
    "    print(packet.sip)"
   ]
  },
  {
   "cell_type": "markdown",
   "metadata": {},
   "source": [
    "**Task 4:**  Which extensions completed a call successfully?"
   ]
  },
  {
   "cell_type": "code",
   "execution_count": 23,
   "metadata": {},
   "outputs": [
    {
     "name": "stdout",
     "output_type": "stream",
     "text": [
      "<sip:085499826@sip.callwithus.com;transport=UDP>;tag=1a9dd438  to   <sip:+918108591527@sip.callwithus.com;transport=UDP>;tag=Q9K2ec6De6g2K\n",
      "<sip:085499826@sip.callwithus.com;transport=UDP>;tag=1a9dd438  to   <sip:+918108591527@sip.callwithus.com;transport=UDP>;tag=Q9K2ec6De6g2K\n"
     ]
    }
   ],
   "source": [
    "import pyshark\n",
    "\n",
    "count = 0\n",
    "result_list = []\n",
    "\n",
    "capture = pyshark.FileCapture('VoIP_traffic.pcap', display_filter='sip.Method==BYE')\n",
    "\n",
    "for packet in capture:\n",
    "    print(packet.sip.From+\"  to   \"+packet.sip.To)"
   ]
  }
 ],
 "metadata": {
  "kernelspec": {
   "display_name": "Python 2",
   "language": "python",
   "name": "python2"
  },
  "language_info": {
   "codemirror_mode": {
    "name": "ipython",
    "version": 2
   },
   "file_extension": ".py",
   "mimetype": "text/x-python",
   "name": "python",
   "nbconvert_exporter": "python",
   "pygments_lexer": "ipython2",
   "version": "2.7.15rc1"
  }
 },
 "nbformat": 4,
 "nbformat_minor": 2
}
