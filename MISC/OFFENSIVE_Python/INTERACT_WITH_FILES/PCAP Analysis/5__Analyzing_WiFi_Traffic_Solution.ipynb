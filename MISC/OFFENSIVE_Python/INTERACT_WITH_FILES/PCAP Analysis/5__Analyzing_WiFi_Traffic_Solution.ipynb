{
 "cells": [
  {
   "cell_type": "markdown",
   "metadata": {},
   "source": [
    "# Analyzing WiFi Traffic"
   ]
  },
  {
   "cell_type": "markdown",
   "metadata": {},
   "source": [
    "A PCAP \"WiFi_Traffic.pcap\" is present in the current working directory. Write code snippets to read/process the PCAP and perform the given tasks.\n",
    "\n",
    "**PyShark** and **Scapy** are installed on the machine."
   ]
  },
  {
   "cell_type": "markdown",
   "metadata": {},
   "source": [
    "### Hunting Tasks"
   ]
  },
  {
   "cell_type": "markdown",
   "metadata": {},
   "source": [
    "**Task 1:**  What is BSSID of SSID “LazyArtists”?"
   ]
  },
  {
   "cell_type": "code",
   "execution_count": 7,
   "metadata": {},
   "outputs": [
    {
     "name": "stdout",
     "output_type": "stream",
     "text": [
      "['fc:b0:c4:91:71:e0']\n"
     ]
    }
   ],
   "source": [
    "from scapy.all import *\n",
    "\n",
    "result_list = []\n",
    "\n",
    "for packet in PcapReader('WiFi_traffic.pcap'):\n",
    "    if packet.haslayer(Dot11Beacon):\n",
    "        if str(packet.info) == \"LazyArtists\":\n",
    "            if packet.addr2 not in result_list:\n",
    "                result_list.append(packet.addr2)\n",
    "            \n",
    "print(result_list)"
   ]
  },
  {
   "cell_type": "markdown",
   "metadata": {},
   "source": [
    "**Task 2:**  SSID “Home_Network” is operating on which channel?"
   ]
  },
  {
   "cell_type": "code",
   "execution_count": 8,
   "metadata": {},
   "outputs": [
    {
     "name": "stdout",
     "output_type": "stream",
     "text": [
      "['\\x06']\n"
     ]
    }
   ],
   "source": [
    "from scapy.all import *\n",
    "\n",
    "result_list = []\n",
    "\n",
    "for packet in PcapReader('WiFi_traffic.pcap'):\n",
    "    if packet.haslayer(Dot11Beacon):\n",
    "        if str(packet.info) == \"Home_Network\":\n",
    "            dot11elt = packet.getlayer(Dot11Elt, ID=3)\n",
    "            if dot11elt.info not in result_list:\n",
    "                result_list.append(dot11elt.info)\n",
    "            \n",
    "print(result_list)"
   ]
  },
  {
   "cell_type": "markdown",
   "metadata": {},
   "source": [
    "**Task 3:**  Which two devices received the deauth messages? State the MAC addresses of both."
   ]
  },
  {
   "cell_type": "code",
   "execution_count": 4,
   "metadata": {},
   "outputs": [
    {
     "name": "stdout",
     "output_type": "stream",
     "text": [
      "['6c:19:8f:5f:81:74', 'bc:ae:c5:c3:5e:01']\n"
     ]
    }
   ],
   "source": [
    "from scapy.all import *\n",
    "\n",
    "result_list = []\n",
    "\n",
    "for packet in PcapReader('WiFi_traffic.pcap'):\n",
    "    if packet.haslayer(Dot11Deauth):\n",
    "        if packet.addr3 not in result_list:\n",
    "            result_list.append(packet.addr3)\n",
    "            \n",
    "print(result_list)"
   ]
  },
  {
   "cell_type": "markdown",
   "metadata": {},
   "source": [
    "**Task 4:** Which device does MAC 5c:51:88:31:a0:3b belongs to? Mention manufacturer and model number of the device."
   ]
  },
  {
   "cell_type": "code",
   "execution_count": 5,
   "metadata": {},
   "outputs": [
    {
     "name": "stdout",
     "output_type": "stream",
     "text": [
      "['Dalvik/2.1.0 (Linux; U; Android 6.0; MotoG3 Build/MPI24.65-25)', 'Mozilla/5.0 (Linux; Android 6.0; MotoG3 Build/MPI24.65-25) AppleWebKit/537.36 (KHTML, like Gecko) Chrome/47.0.2526.83 Mobile Safari/537.36']\n"
     ]
    }
   ],
   "source": [
    "import pyshark\n",
    "\n",
    "count = 0\n",
    "result_list = []\n",
    "\n",
    "capture = pyshark.FileCapture('WiFi_traffic.pcap', display_filter='wlan.ta==5c:51:88:31:a0:3b && http')\n",
    "\n",
    "for packet in capture:\n",
    "    if packet.http.user_agent not in result_list:\n",
    "        result_list.append(packet.http.user_agent)\n",
    "        \n",
    "print(result_list)"
   ]
  }
 ],
 "metadata": {
  "kernelspec": {
   "display_name": "Python 2",
   "language": "python",
   "name": "python2"
  },
  "language_info": {
   "codemirror_mode": {
    "name": "ipython",
    "version": 2
   },
   "file_extension": ".py",
   "mimetype": "text/x-python",
   "name": "python",
   "nbconvert_exporter": "python",
   "pygments_lexer": "ipython2",
   "version": "2.7.15rc1"
  }
 },
 "nbformat": 4,
 "nbformat_minor": 2
}
