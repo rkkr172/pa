{
 "cells": [
  {
   "cell_type": "markdown",
   "metadata": {},
   "source": [
    "# Challenge 1: Cracking ZIP achive"
   ]
  },
  {
   "cell_type": "markdown",
   "metadata": {},
   "source": [
    "### Statement"
   ]
  },
  {
   "cell_type": "markdown",
   "metadata": {},
   "source": [
    "A .zip archive named **secret.zip** is present in the current working directory. The archive is password protected. The password is generated using the following password policy:\n",
    "\n",
    "- Password is 6 characters long\n",
    "- Password only contains characters from character set  {a, b, c, d, e, 1, 2, 3, 4, 5}\n"
   ]
  },
  {
   "cell_type": "markdown",
   "metadata": {},
   "source": [
    "### Tasks"
   ]
  },
  {
   "cell_type": "markdown",
   "metadata": {},
   "source": [
    "**Task 1.** Read the archive and print the list of files inside it."
   ]
  },
  {
   "cell_type": "code",
   "execution_count": 44,
   "metadata": {},
   "outputs": [
    {
     "name": "stdout",
     "output_type": "stream",
     "text": [
      "File Name                                             Modified             Size\n",
      "LabAccessCodes-TopSecret.txt                   2018-08-22 20:25:08           53\n"
     ]
    }
   ],
   "source": [
    "import zipfile\n",
    "z = zipfile.ZipFile(\"secret.zip\")\n",
    "z.printdir()\n",
    "z.close()"
   ]
  },
  {
   "cell_type": "markdown",
   "metadata": {},
   "source": [
    "**Task 2.** Generate a dictionary \"dict.txt\" containing all possible passwords, matching the password policy."
   ]
  },
  {
   "cell_type": "code",
   "execution_count": 5,
   "metadata": {},
   "outputs": [],
   "source": [
    "import itertools\n",
    "alphabets = ['a', 'b', 'c', 'd', 'e', '1', '2', '3', '4', '5']\n",
    "f = open(\"dict.txt\", \"w\")\n",
    "for passlen in [6]:\n",
    "    combinations = itertools.product(alphabets, repeat = passlen)\n",
    "    for combination in combinations:\n",
    "        f.write(''.join(combination)+\"\\n\")"
   ]
  },
  {
   "cell_type": "markdown",
   "metadata": {},
   "source": [
    "**Task 3.** Bruteforce the \"secret.zip\" using the generated dictionary file and print the correct password."
   ]
  },
  {
   "cell_type": "code",
   "execution_count": 6,
   "metadata": {},
   "outputs": [
    {
     "name": "stdout",
     "output_type": "stream",
     "text": [
      "Password not found\n"
     ]
    }
   ],
   "source": [
    "import zipfile\n",
    "cracked = False\n",
    "z = zipfile.ZipFile(\"secret.zip\")\n",
    "with open(\"dict.txt\") as f:\n",
    "    lines = f.readlines()\n",
    "for password in lines:\n",
    "    password = password.replace('\\n','')\n",
    "    try:\n",
    "        z.extractall(pwd=password)\n",
    "        correct_password = 'Correct password: %s' % password\n",
    "        cracked = True\n",
    "        break\n",
    "    except:\n",
    "        pass\n",
    "\n",
    "if cracked:\n",
    "    print correct_password\n",
    "else:\n",
    "    print \"Password not found\""
   ]
  },
  {
   "cell_type": "markdown",
   "metadata": {},
   "source": [
    "**Task 4.** Print the contents of all the extracted file."
   ]
  },
  {
   "cell_type": "code",
   "execution_count": 3,
   "metadata": {},
   "outputs": [
    {
     "name": "stdout",
     "output_type": "stream",
     "text": [
      "File name:LabAccessCodes-TopSecret.txt\n",
      "\n",
      "Content:\n",
      "Access code: ba1d3293e61ba9173f90a8d69a06360fb3ebbb12\n",
      "\n",
      "\n",
      "\n"
     ]
    }
   ],
   "source": [
    "import zipfile\n",
    "z = zipfile.ZipFile(\"secret.zip\")\n",
    "files = z.namelist()\n",
    "z.setpassword(\"b1c1e5\")\n",
    "z.extractall()\n",
    "z.close()\n",
    "for extracted_file in files:\n",
    "    print \"File name:\"+extracted_file+\"\\n\\nContent:\"\n",
    "    with open(extracted_file) as f:\n",
    "        content = f.readlines()\n",
    "        print ''.join(content)\n",
    "        print '\\n\\n'"
   ]
  },
  {
   "cell_type": "code",
   "execution_count": null,
   "metadata": {},
   "outputs": [],
   "source": []
  }
 ],
 "metadata": {
  "kernelspec": {
   "display_name": "Python 2",
   "language": "python",
   "name": "python2"
  },
  "language_info": {
   "codemirror_mode": {
    "name": "ipython",
    "version": 2
   },
   "file_extension": ".py",
   "mimetype": "text/x-python",
   "name": "python",
   "nbconvert_exporter": "python",
   "pygments_lexer": "ipython2",
   "version": "2.7.15rc1"
  }
 },
 "nbformat": 4,
 "nbformat_minor": 2
}
