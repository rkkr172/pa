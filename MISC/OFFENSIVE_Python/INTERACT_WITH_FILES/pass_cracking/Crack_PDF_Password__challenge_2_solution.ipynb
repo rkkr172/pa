{
 "cells": [
  {
   "cell_type": "markdown",
   "metadata": {},
   "source": [
    "# Challenge 2: Cracking PDF achive"
   ]
  },
  {
   "cell_type": "markdown",
   "metadata": {},
   "source": [
    "### Statement"
   ]
  },
  {
   "cell_type": "markdown",
   "metadata": {},
   "source": [
    "A .pdf file named **secret.pdf** is present in the current working directory. The file is password protected. The password is generated using the following password policy:\n",
    "\n",
    "- Password is 6 characters long\n",
    "- Password only contains characters from character set  {a, b, c, d, e, 1, 2, 3, 4, 5}\n",
    "\n",
    "**Note:** PyPDF2 library is available on the system\n"
   ]
  },
  {
   "cell_type": "markdown",
   "metadata": {},
   "source": [
    "### Tasks\n"
   ]
  },
  {
   "cell_type": "markdown",
   "metadata": {},
   "source": [
    "**Task 1.** Generate a dictionary \"dict.txt\" containing all possible passwords, matching the password policy."
   ]
  },
  {
   "cell_type": "code",
   "execution_count": 3,
   "metadata": {},
   "outputs": [],
   "source": [
    "import itertools\n",
    "alphabets = ['a', 'b', 'c', 'd', 'e', '1', '2', '3', '4', '5']\n",
    "f = open(\"dict.txt\", \"w\")\n",
    "for passlen in [6]:\n",
    "    combinations = itertools.product(alphabets, repeat = passlen)\n",
    "    for combination in combinations:\n",
    "        f.write(''.join(combination)+\"\\n\")"
   ]
  },
  {
   "cell_type": "markdown",
   "metadata": {},
   "source": [
    "**Task 2.** Bruteforce the \"secret.pdf\" using the generated dictionary file and print the correct password."
   ]
  },
  {
   "cell_type": "code",
   "execution_count": 25,
   "metadata": {},
   "outputs": [
    {
     "name": "stdout",
     "output_type": "stream",
     "text": [
      "Correct password: bac321\n"
     ]
    }
   ],
   "source": [
    "from PyPDF2 import PdfFileReader, PdfFileWriter\n",
    "\n",
    "cracked = False\n",
    "\n",
    "# Loading passwords\n",
    "with open(\"dict.txt\") as f:\n",
    "    lines = f.readlines()\n",
    "\n",
    "# Opening file\n",
    "with open('secret.pdf', 'rb') as input_file:\n",
    "    reader = PdfFileReader(input_file)\n",
    "    for password in lines:\n",
    "        password = password.replace('\\n','')\n",
    "        try:\n",
    "            status = reader.decrypt(password)\n",
    "            if status == 1:\n",
    "                correct_password = 'Correct password: %s' % password\n",
    "                cracked = True\n",
    "                break\n",
    "        except:\n",
    "            pass\n",
    "\n",
    "if cracked:\n",
    "    print correct_password\n",
    "else:\n",
    "    print \"Not cracked\""
   ]
  },
  {
   "cell_type": "markdown",
   "metadata": {},
   "source": [
    "**Task 3.** Print the content of \"secret.pdf\" using the correct password."
   ]
  },
  {
   "cell_type": "code",
   "execution_count": 38,
   "metadata": {},
   "outputs": [
    {
     "name": "stdout",
     "output_type": "stream",
     "text": [
      "Secret code:\n",
      " \n",
      "cb3ff73b4a64e4eabcacd950e12c387fbaa37\n",
      "adfde2a33b1b8fadf82aa1cdb82\n",
      " \n",
      " \n",
      "\n"
     ]
    }
   ],
   "source": [
    "from PyPDF2 import PdfFileReader, PdfFileWriter\n",
    "\n",
    "encrypted_file='secret.pdf'\n",
    "password='bac321'\n",
    "with open(encrypted_file, 'rb') as input_file:\n",
    "    reader = PdfFileReader(input_file)\n",
    "    reader.decrypt(password)\n",
    "    for i in range(reader.getNumPages()):\n",
    "            page = reader.getPage(i)\n",
    "            page_content = page.extractText()\n",
    "            print page_content.encode('utf-8')"
   ]
  },
  {
   "cell_type": "markdown",
   "metadata": {},
   "source": [
    "**Task 4.** Decrypt the \"secret.pdf\" using the correct password and save the decrypted file."
   ]
  },
  {
   "cell_type": "code",
   "execution_count": 40,
   "metadata": {},
   "outputs": [],
   "source": [
    "from PyPDF2 import PdfFileReader, PdfFileWriter\n",
    "\n",
    "encrypted_file='secret.pdf'\n",
    "decrypted_file='decrypted.pdf'\n",
    "password='bac321'\n",
    "with open(encrypted_file, 'rb') as input_file, open(decrypted_file, 'wb') as output_file:\n",
    "    reader = PdfFileReader(input_file)\n",
    "    reader.decrypt(password)\n",
    "    \n",
    "    writer = PdfFileWriter()\n",
    "\n",
    "    for i in range(reader.getNumPages()):\n",
    "        writer.addPage(reader.getPage(i))\n",
    "\n",
    "    writer.write(output_file)"
   ]
  },
  {
   "cell_type": "markdown",
   "metadata": {},
   "source": [
    "**Task 5.** Print the metadata from the decrypted file."
   ]
  },
  {
   "cell_type": "code",
   "execution_count": 41,
   "metadata": {},
   "outputs": [
    {
     "name": "stdout",
     "output_type": "stream",
     "text": [
      "{'/Producer': u'PyPDF2'}\n"
     ]
    }
   ],
   "source": [
    "from PyPDF2 import PdfFileReader, PdfFileWriter\n",
    "\n",
    "# Opening file\n",
    "with open('decrypted.pdf', 'rb') as input_file:\n",
    "    reader = PdfFileReader(input_file)\n",
    "    print reader.getDocumentInfo()\n",
    "    \n",
    "    "
   ]
  }
 ],
 "metadata": {
  "kernelspec": {
   "display_name": "Python 2",
   "language": "python",
   "name": "python2"
  },
  "language_info": {
   "codemirror_mode": {
    "name": "ipython",
    "version": 2
   },
   "file_extension": ".py",
   "mimetype": "text/x-python",
   "name": "python",
   "nbconvert_exporter": "python",
   "pygments_lexer": "ipython2",
   "version": "2.7.15rc1"
  }
 },
 "nbformat": 4,
 "nbformat_minor": 2
}
